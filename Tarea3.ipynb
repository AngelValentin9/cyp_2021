{
  "nbformat": 4,
  "nbformat_minor": 0,
  "metadata": {
    "colab": {
      "name": "Tarea3.ipynb",
      "provenance": [],
      "authorship_tag": "ABX9TyP4DnbKBdgfEOvpjcNQHANT",
      "include_colab_link": true
    },
    "kernelspec": {
      "name": "python3",
      "display_name": "Python 3"
    }
  },
  "cells": [
    {
      "cell_type": "markdown",
      "metadata": {
        "id": "view-in-github",
        "colab_type": "text"
      },
      "source": [
        "<a href=\"https://colab.research.google.com/github/AngelValentin9/cyp_2021/blob/main/Tarea3.ipynb\" target=\"_parent\"><img src=\"https://colab.research.google.com/assets/colab-badge.svg\" alt=\"Open In Colab\"/></a>"
      ]
    },
    {
      "cell_type": "code",
      "metadata": {
        "colab": {
          "base_uri": "https://localhost:8080/"
        },
        "id": "He8J9YU2T2qn",
        "outputId": "e484e1d1-2c97-4d3a-a48d-3f13a5a0f39c"
      },
      "source": [
        "#Problema 1.1\n",
        "\n",
        "PREPRO = 0\n",
        "PAGO = 0\n",
        "DEVO = 0\n",
        "\n",
        "PREPRO = float (input(\"Dame el costo del articulo: \"))\n",
        "PAGO = float (input(\"Dame el pago que realizo el cliente: \"))\n",
        "\n",
        "DEVO = PAGO-PREPRO\n",
        "print (DEVO)\n"
      ],
      "execution_count": 5,
      "outputs": [
        {
          "output_type": "stream",
          "text": [
            "Dame el costo del articulo: 86.25\n",
            "Dame el pago que realizo el cliente: 100\n",
            "13.75\n"
          ],
          "name": "stdout"
        }
      ]
    },
    {
      "cell_type": "code",
      "metadata": {
        "colab": {
          "base_uri": "https://localhost:8080/"
        },
        "id": "dTbu4afIaWV5",
        "outputId": "332454d8-b1c7-468d-829f-2f0bbf5d8bcf"
      },
      "source": [
        "#Problema 1.2\n",
        "\n",
        "BASE = 0\n",
        "ALTU = 0\n",
        "SUP = 0\n",
        "\n",
        "BASE = float (input(\"Dame la base del triangulo: \"))\n",
        "ALTU = float (input(\"Dame la altura del triangulo \"))\n",
        "\n",
        "SUP = (BASE*ALTU)/2\n",
        "print (\"EL RESULTO ES\", SUP)"
      ],
      "execution_count": 8,
      "outputs": [
        {
          "output_type": "stream",
          "text": [
            "Dame la base del triangulo: 11.60\n",
            "Dame la altura del triangulo 7.40\n",
            "EL RESULTO ES 42.92\n"
          ],
          "name": "stdout"
        }
      ]
    },
    {
      "cell_type": "code",
      "metadata": {
        "colab": {
          "base_uri": "https://localhost:8080/"
        },
        "id": "6eEWNXlucTG_",
        "outputId": "6996eef5-0000-466c-b602-6e161ed90f1c"
      },
      "source": [
        "#Problema 1.3\n",
        "\n",
        "NOM = 0\n",
        "PES = 0\n",
        "LON = 0\n",
        "PESKIL = 0\n",
        "LONMET = 0\n",
        "\n",
        "NOM = (input(\"¿Como se llama el dinosaurio? \"))\n",
        "PES = float(input(\"¿Cuanto pesa el dinosaurio en toneladas?: \"))\n",
        "LON = float(input(\"¿Cuánto mide el dinsosaurio en pies?: \"))\n",
        "\n",
        "PESKIL = (PES*1000)\n",
        "LONMET = (LON*0.3047)\n",
        "\n",
        "print(f\"Se llama {NOM}, pesa {PESKIL} en kilogramos y su altura es de {LONMET} metros\"  )"
      ],
      "execution_count": 12,
      "outputs": [
        {
          "output_type": "stream",
          "text": [
            "¿Como se llama el dinosaurio? BRACHIOSAURUS\n",
            "¿Cuanto pesa el dinosaurio en toneladas?: 50\n",
            "¿Cuánto mide el dinsosaurio en pies?: 80\n",
            "Se llama BRACHIOSAURUS, pesa 50000.0 en kilogramos y su altura es de 24.376 metros\n"
          ],
          "name": "stdout"
        }
      ]
    },
    {
      "cell_type": "code",
      "metadata": {
        "colab": {
          "base_uri": "https://localhost:8080/"
        },
        "id": "SRV9qJtUf-Kp",
        "outputId": "0d44601a-315b-4b68-9e99-208afb29c737"
      },
      "source": [
        "#Problema 1.4\n",
        "\n",
        "GAL = 0\n",
        "TOTAL = 0\n",
        "\n",
        "GAL = float(input(\"¿Cuantos galones?: \"))\n",
        "TOTAL = GAL*3.785*8.20\n",
        "\n",
        "print(\"EL DINERO A PAGAR ES\", TOTAL)"
      ],
      "execution_count": 13,
      "outputs": [
        {
          "output_type": "stream",
          "text": [
            "¿Cuantos galones?: 19.90\n",
            "EL DINERO A PAGAR ES 617.6363\n"
          ],
          "name": "stdout"
        }
      ]
    },
    {
      "cell_type": "code",
      "metadata": {
        "colab": {
          "base_uri": "https://localhost:8080/"
        },
        "id": "JSKq-eA8iIn4",
        "outputId": "16f6c43a-a36c-4c4a-e266-522c3af25f91"
      },
      "source": [
        "#Problema 1.5\n",
        "\n",
        "RADIO = 0\n",
        "ALTU = 0\n",
        "VOL = 0\n",
        "AREA = 0\n",
        "\n",
        "RADIO = float(input(\"Dame el radio del cilindro: \"))\n",
        "ALTU = float(input(\"Dame la altura del cilindro: \"))\n",
        "VOL = 3.141592*(RADIO**2)*ALTU\n",
        "AREA = 2*3.141592*RADIO*ALTU\n",
        "\n",
        "print(f\"El volumen es: {VOL}\")\n",
        "print(f\"EL area es: {AREA}\")\n"
      ],
      "execution_count": 14,
      "outputs": [
        {
          "output_type": "stream",
          "text": [
            "Dame el radio del cilindro: 125.30\n",
            "Dame la altura del cilindro: 117.40\n",
            "El volumen es: 5790552.7366210725\n",
            "EL area es: 92427.01894048002\n"
          ],
          "name": "stdout"
        }
      ]
    },
    {
      "cell_type": "code",
      "metadata": {
        "colab": {
          "base_uri": "https://localhost:8080/"
        },
        "id": "psFb_eYPm9jF",
        "outputId": "73ce17f2-0c9e-4b21-be5c-a53d16788cfa"
      },
      "source": [
        "#Problema 1.6\n",
        "\n",
        "DIAS = 0\n",
        "SEG = 0\n",
        "\n",
        "DIAS = int(input(\"¿Cuántos días?: \"))\n",
        "SEGUNDOS = DIAS*24*60*60\n",
        " \n",
        "print(f\"En {DIAS} dias hay {SEGUNDOS} segundos\")"
      ],
      "execution_count": 16,
      "outputs": [
        {
          "output_type": "stream",
          "text": [
            "¿Cuántos días?: 116\n",
            "En 116 dias hay 10022400 segundos\n"
          ],
          "name": "stdout"
        }
      ]
    }
  ]
}