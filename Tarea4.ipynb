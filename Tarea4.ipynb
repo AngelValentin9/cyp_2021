{
  "nbformat": 4,
  "nbformat_minor": 0,
  "metadata": {
    "colab": {
      "name": "Tarea4.ipynb",
      "provenance": [],
      "authorship_tag": "ABX9TyOPfqU5QaE53oIV6PyXD1r2",
      "include_colab_link": true
    },
    "kernelspec": {
      "name": "python3",
      "display_name": "Python 3"
    }
  },
  "cells": [
    {
      "cell_type": "markdown",
      "metadata": {
        "id": "view-in-github",
        "colab_type": "text"
      },
      "source": [
        "<a href=\"https://colab.research.google.com/github/AngelValentin9/cyp_2021/blob/main/Tarea4.ipynb\" target=\"_parent\"><img src=\"https://colab.research.google.com/assets/colab-badge.svg\" alt=\"Open In Colab\"/></a>"
      ]
    },
    {
      "cell_type": "code",
      "metadata": {
        "id": "UESEB2ntBrGf",
        "colab": {
          "base_uri": "https://localhost:8080/"
        },
        "outputId": "028aa613-ec15-43d6-faf1-34169acb8a1a"
      },
      "source": [
        "#Ejemplo2.4 Nuevo sueldo de trabajador\n",
        "\n",
        "sue = 0\n",
        "sue = float(input(\"ingrese el sueldo:\"))\n",
        "\n",
        "if (sue <= 1000):\n",
        "  suea = ((sue/ 100)*15)+sue\n",
        "  print(f\"elsueldo del trabajador con el aumento es ${suea:.2f}\")\n",
        "\n",
        "else:\n",
        "  suea = ((sue/100)*12)+sue\n",
        "  print(f\"el sueldo del trabajador con el aumento es ${suea:.2f}\")\n"
      ],
      "execution_count": 2,
      "outputs": [
        {
          "output_type": "stream",
          "text": [
            "ingrese el sueldo:1950.00\n",
            "el sueldo del trabajador con el aumento es $2184.00\n"
          ],
          "name": "stdout"
        }
      ]
    },
    {
      "cell_type": "code",
      "metadata": {
        "colab": {
          "base_uri": "https://localhost:8080/"
        },
        "id": "owfyd5GqKadE",
        "outputId": "3ec2abdd-d525-433e-b8ea-03341646156a"
      },
      "source": [
        "#Ejemplo 2.8 Cálculo de aumento según la categoria\n",
        "\n",
        "cat = int(input(\"ingrese la catergoria del trabajador:\"))\n",
        "sue = float (input(\"ingrese el sueldo del trabajador:\"))\n",
        "\n",
        "if (cat == 1):\n",
        "  suea = ((sue /100)*15)+sue\n",
        "  print(f\"el sueldo del trabajador categoria {cat} con el aumento es ${suea:.2f}\")\n",
        "\n",
        "elif (cat ==2):\n",
        "  suea = ((sue /100)*10)+sue\n",
        "  print(f\"el sueldo del trabajador categoria {cat} con el aumento es ${suea:.2f}\")\n",
        "\n",
        "elif (cat ==3):\n",
        "  suea = ((sue /100)*8)+sue\n",
        "  print(f\"el sueldo del trabajador categoria {cat} con el aumento es ${suea:.2f}\")\n",
        "\n",
        "elif (cat ==4):\n",
        "  suea = ((sue /100)*7)+sue\n",
        "  print(f\"el sueldo del trabajador categoria {cat} con el aumento es: ${suea:.2f}\")\n"
      ],
      "execution_count": 5,
      "outputs": [
        {
          "output_type": "stream",
          "text": [
            "ingrese la catergoria del trabajador:1\n",
            "ingrese el sueldo del trabajador:1100\n",
            "el sueldo del trabajador categoria 1 con el aumento es $1265.00\n"
          ],
          "name": "stdout"
        }
      ]
    }
  ]
}