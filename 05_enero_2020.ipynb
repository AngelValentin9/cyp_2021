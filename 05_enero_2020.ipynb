{
  "nbformat": 4,
  "nbformat_minor": 0,
  "metadata": {
    "colab": {
      "name": "05_enero_2020.ipynb",
      "provenance": [],
      "authorship_tag": "ABX9TyN642XshDyF3RsidUIhfPZU",
      "include_colab_link": true
    },
    "kernelspec": {
      "name": "python3",
      "display_name": "Python 3"
    }
  },
  "cells": [
    {
      "cell_type": "markdown",
      "metadata": {
        "id": "view-in-github",
        "colab_type": "text"
      },
      "source": [
        "<a href=\"https://colab.research.google.com/github/AngelValentin9/cyp_2021/blob/main/05_enero_2020.ipynb\" target=\"_parent\"><img src=\"https://colab.research.google.com/assets/colab-badge.svg\" alt=\"Open In Colab\"/></a>"
      ]
    },
    {
      "cell_type": "code",
      "metadata": {
        "colab": {
          "base_uri": "https://localhost:8080/"
        },
        "id": "fTa644jtjkEN",
        "outputId": "8d7720ed-446b-4236-d578-5825f74d5227"
      },
      "source": [
        "sueldos = [0.0 for x in range (7)]\r\n",
        "print(sueldos)\r\n",
        "sueldos[0] = 12.3\r\n",
        "sueldos[1] = 22.3\r\n",
        "sueldos[2] = 32.3\r\n",
        "sueldos[3] = 42.3\r\n",
        "sueldos[4] = 52.3\r\n",
        "sueldos[5] = 62.3\r\n",
        "sueldos[6] = 72.3\r\n",
        "\r\n",
        "print(sueldos)\r\n",
        "#Como le hacemos para asignarles valor de el 1.0 al 7.9\r\n",
        "#con una estructura for\r\n",
        "\"\"\"\r\n",
        "for j in range(7):\r\n",
        "  sueldos[j]=float(input(\"Introduce un sueldo:\")) \r\n",
        "  print (sueldos)\r\n",
        "\"\"\" \r\n",
        "\r\n",
        "#otra solución\r\n",
        "sueldo = [float(x) for x in range(7)]\r\n",
        "for i in range(0,7):\r\n",
        "  sueldo[i] = float(i)+1.0\r\n",
        "\r\n",
        "print(sueldo)\r\n",
        "\r\n",
        "#automatizar el recorrido de los elementos del arreglo\r\n",
        "\r\n",
        "for i in range(7):\r\n",
        "  print(f\"El trabajador {int(i)+1} gana ${sueldo[i]}\")"
      ],
      "execution_count": 16,
      "outputs": [
        {
          "output_type": "stream",
          "text": [
            "[0.0, 0.0, 0.0, 0.0, 0.0, 0.0, 0.0]\n",
            "[12.3, 22.3, 32.3, 42.3, 52.3, 62.3, 72.3]\n",
            "[1.0, 2.0, 3.0, 4.0, 5.0, 6.0, 7.0]\n",
            "El trabajador 1 gana $1.0\n",
            "El trabajador 2 gana $2.0\n",
            "El trabajador 3 gana $3.0\n",
            "El trabajador 4 gana $4.0\n",
            "El trabajador 5 gana $5.0\n",
            "El trabajador 6 gana $6.0\n",
            "El trabajador 7 gana $7.0\n"
          ],
          "name": "stdout"
        }
      ]
    },
    {
      "cell_type": "code",
      "metadata": {
        "colab": {
          "base_uri": "https://localhost:8080/"
        },
        "id": "-8AEjPX2spHt",
        "outputId": "3681121c-fe46-4bca-8f82-74e0f123ca7b"
      },
      "source": [
        "# PROBLEMA 4.1\r\n",
        "MAXIMO  = 7\r\n",
        "sueldos = [0.0 for x in range(MAXIMO)]\r\n",
        "SUMA = 0.0\r\n",
        "PROM = 0.0\r\n",
        "\r\n",
        "for i in range(MAXIMO):\r\n",
        "  sueldos[i] = float (input(\"Dame el sueldo: \"))\r\n",
        "\r\n",
        "for i in range(MAXIMO):\r\n",
        "  print(f\"Trabajador {i + 1}, gana {sueldos[i]}\") \r\n",
        "\r\n",
        "for i in range(MAXIMO):\r\n",
        "  SUMA = SUMA + sueldos[i]\r\n",
        "PROM = SUMA / MAXIMO\r\n",
        "print(f\"El promedio de sueldo es {PROM}\")\r\n",
        "\r\n",
        "for i in range(MAXIMO):\r\n",
        "  if sueldos[i] > PROM:\r\n",
        "    print(f\"El trabajador {i + 1} tiene un sueldo mayor al promedio\")"
      ],
      "execution_count": 24,
      "outputs": [
        {
          "output_type": "stream",
          "text": [
            "Dame el sueldo: 4\n",
            "Dame el sueldo: 5\n",
            "Dame el sueldo: 4\n",
            "Dame el sueldo: 5\n",
            "Dame el sueldo: 4\n",
            "Dame el sueldo: 5\n",
            "Dame el sueldo: 4\n",
            "Trabajador 1, gana 4.0\n",
            "Trabajador 2, gana 5.0\n",
            "Trabajador 3, gana 4.0\n",
            "Trabajador 4, gana 5.0\n",
            "Trabajador 5, gana 4.0\n",
            "Trabajador 6, gana 5.0\n",
            "Trabajador 7, gana 4.0\n",
            "El promedio de sueldo es 4.428571428571429\n",
            "El trabajador 2 tiene un sueldo mayor al promedio\n",
            "El trabajador 4 tiene un sueldo mayor al promedio\n",
            "El trabajador 6 tiene un sueldo mayor al promedio\n"
          ],
          "name": "stdout"
        }
      ]
    },
    {
      "cell_type": "code",
      "metadata": {
        "colab": {
          "base_uri": "https://localhost:8080/"
        },
        "id": "GeaclHzuthpz",
        "outputId": "28999236-c943-4703-b1b3-2e72d246820d"
      },
      "source": [
        "Max = 5\r\n",
        "valor =  [0.0 for x in range(Max)]\r\n",
        "sum = 0.0\r\n",
        "prom = 0.0\r\n",
        "M = 0\r\n",
        "m = 100000000\r\n",
        "\r\n",
        "for i in range(Max):\r\n",
        "  valor[i] = int(input(\"Dame un valor entero positivo: \"))\r\n",
        "  if valor[i] > M:\r\n",
        "    M = valor[i]\r\n",
        "  elif valor[i] < m:\r\n",
        "    m = valor[i]\r\n",
        "\r\n",
        "for i in range(Max):\r\n",
        "  sum = sum + valor[i]\r\n",
        "\r\n",
        "prom = sum / Max\r\n",
        "\r\n",
        "print(f\"El numero mayor es {M}\")\r\n",
        "print(f\"El numero menor es {m}\")\r\n",
        "print(f\"El promedio es {prom}\")"
      ],
      "execution_count": 27,
      "outputs": [
        {
          "output_type": "stream",
          "text": [
            "Dame un valor entero positivo: 4\n",
            "Dame un valor entero positivo: 2\n",
            "Dame un valor entero positivo: 1\n",
            "Dame un valor entero positivo: 5\n",
            "Dame un valor entero positivo: 6\n",
            "El numero mayor es 6\n",
            "El numero menor es 1\n",
            "El promedio es 3.6\n"
          ],
          "name": "stdout"
        }
      ]
    },
    {
      "cell_type": "code",
      "metadata": {
        "colab": {
          "base_uri": "https://localhost:8080/"
        },
        "id": "hlNab0q37w5D",
        "outputId": "a6ad8ab1-c1f9-4383-d76e-6c966ad7fd4d"
      },
      "source": [
        "#Problema 4.1\r\n",
        "N = int(input(\"Ingrese el numero de elementos del arreglo: \"))\r\n",
        "VEC = []\r\n",
        "if 1 <= N and N <=500:\r\n",
        "  VEC = [0 for x in range(N)]\r\n",
        "  for I in range(N):\r\n",
        "    VEC[I]=int(input(\"Ingrese valor\" + str(I+1) + \":\"))\r\n",
        "  print(\"Lista de numero sin repeticiones: \")\r\n",
        "\r\n",
        "  I =0\r\n",
        "  while I<N:\r\n",
        "    print(VEC[I])\r\n",
        "    REPET = VEC[I]\r\n",
        "    while I < N and REPET == VEC[I]:\r\n",
        "      I = I +1\r\n",
        "    I = I + 1\r\n",
        "else: \r\n",
        "  print(\"EL numero de elementos del arreglo es incorrecto\")"
      ],
      "execution_count": 48,
      "outputs": [
        {
          "output_type": "stream",
          "text": [
            "Ingrese el numero de elementos del arreglo: 10\n",
            "Ingrese valor1:2\n",
            "Ingrese valor2:3\n",
            "Ingrese valor3:3\n",
            "Ingrese valor4:3\n",
            "Ingrese valor5:10\n",
            "Ingrese valor6:20\n",
            "Ingrese valor7:20\n",
            "Ingrese valor8:40\n",
            "Ingrese valor9:43\n",
            "Ingrese valor10:51\n",
            "Lista de numero sin repeticiones: \n",
            "2\n",
            "3\n",
            "20\n",
            "43\n"
          ],
          "name": "stdout"
        }
      ]
    }
  ]
}