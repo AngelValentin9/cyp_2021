{
  "nbformat": 4,
  "nbformat_minor": 0,
  "metadata": {
    "colab": {
      "name": "Tarea7.ipynb",
      "provenance": [],
      "authorship_tag": "ABX9TyNi+nc0WYfq6wdHfZAItimg",
      "include_colab_link": true
    },
    "kernelspec": {
      "name": "python3",
      "display_name": "Python 3"
    }
  },
  "cells": [
    {
      "cell_type": "markdown",
      "metadata": {
        "id": "view-in-github",
        "colab_type": "text"
      },
      "source": [
        "<a href=\"https://colab.research.google.com/github/AngelValentin9/cyp_2021/blob/main/Tarea7.ipynb\" target=\"_parent\"><img src=\"https://colab.research.google.com/assets/colab-badge.svg\" alt=\"Open In Colab\"/></a>"
      ]
    },
    {
      "cell_type": "code",
      "metadata": {
        "colab": {
          "base_uri": "https://localhost:8080/"
        },
        "id": "1cQYRCCDRw9R",
        "outputId": "4e0c3617-447f-4d52-b033-b77905b3bd87"
      },
      "source": [
        "#Problema 4.11\r\n",
        "total = int(input(\"¿Cuántos países en total serán?: \"))\r\n",
        "\r\n",
        "norte, centro, sur, aux, aux2 = 0, 0, 0, 0, 0\r\n",
        "while True:\r\n",
        "  norte = int(input(\"¿Cuántos países serán para el Norte de América?: \"))\r\n",
        "  centro = int(input(\"¿Cuántos países serán para el Centro de América?: \"))\r\n",
        "  sur = int(input(\"¿Cuántos países serán para el Sur de América?: \"))\r\n",
        "  aux = norte + centro + sur\r\n",
        "\r\n",
        "  if aux == total:\r\n",
        "    break;\r\n",
        "  elif aux < total:\r\n",
        "    print(\"La cantidad de países ingresada por regiones es menor a la total.\")\r\n",
        "  elif aux > total:\r\n",
        "    print(\"La cantidad de países ingresada por regiones es mayor a la total.\")\r\n",
        "\r\n",
        "lpaises = [\"Norte\", \"Centro\", \"Sur\"]\r\n",
        "aux = 0\r\n",
        "pnorte = [str(0) for x in range(norte)]\r\n",
        "pcentro = [str(0) for x in range(centro)]\r\n",
        "psur = [str(0) for x in range(sur)]\r\n",
        "ptotal = [str(0) for x in range(total)]\r\n",
        "\r\n",
        "for i in range(total):\r\n",
        "  ptotal[i] = str(input(f\"Ingresa el nombre del país n°{aux+1} para la región del {lpaises[aux2]} de América: \"))\r\n",
        "  aux += 1\r\n",
        "  if aux2 == 0:\r\n",
        "    if aux >= norte:\r\n",
        "      aux = 0\r\n",
        "      aux2 = 1\r\n",
        "    pnorte[aux] = ptotal[i]\r\n",
        "  elif aux2 == 1:\r\n",
        "    if aux >= centro:\r\n",
        "      aux = 0\r\n",
        "      aux2 = 2\r\n",
        "    pcentro[aux] = ptotal[i]\r\n",
        "  elif aux2 == 2:\r\n",
        "    if aux >= sur:\r\n",
        "      aux = 0\r\n",
        "    psur[aux] = ptotal[i]\r\n",
        "\r\n",
        "print(f\"Norte: {sorted(pnorte)}\")\r\n",
        "print(f\"Centro: {sorted(pcentro)}\")\r\n",
        "print(f\"Sur: {sorted(psur)}\")\r\n",
        "print(f\"Todos: {sorted(ptotal)}\")"
      ],
      "execution_count": 2,
      "outputs": [
        {
          "output_type": "stream",
          "text": [
            "¿Cuántos países en total serán?: 15\n",
            "¿Cuántos países serán para el Norte de América?: 3\n",
            "¿Cuántos países serán para el Centro de América?: 6\n",
            "¿Cuántos países serán para el Sur de América?: 6\n",
            "Ingresa el nombre del país n°1 para la región del Norte de América: Canadá\n",
            "Ingresa el nombre del país n°2 para la región del Norte de América: Estados Unidos\n",
            "Ingresa el nombre del país n°3 para la región del Norte de América: México\n",
            "Ingresa el nombre del país n°1 para la región del Centro de América: Belice \n",
            "Ingresa el nombre del país n°2 para la región del Centro de América: Costa Rica\n",
            "Ingresa el nombre del país n°3 para la región del Centro de América: El Salvador\n",
            "Ingresa el nombre del país n°4 para la región del Centro de América: Guatemala\n",
            "Ingresa el nombre del país n°5 para la región del Centro de América: Honduras \n",
            "Ingresa el nombre del país n°6 para la región del Centro de América: Nicaragua\n",
            "Ingresa el nombre del país n°1 para la región del Sur de América: Argentina\n",
            "Ingresa el nombre del país n°2 para la región del Sur de América: Bolivia\n",
            "Ingresa el nombre del país n°3 para la región del Sur de América: Brasil \n",
            "Ingresa el nombre del país n°4 para la región del Sur de América: Chile\n",
            "Ingresa el nombre del país n°5 para la región del Sur de América: Colombia\n",
            "Ingresa el nombre del país n°6 para la región del Sur de América: Ecuador\n",
            "Norte: ['Canadá', 'Estados Unidos', 'México']\n",
            "Centro: ['Belice ', 'Costa Rica', 'El Salvador', 'Guatemala', 'Honduras ', 'Nicaragua']\n",
            "Sur: ['Argentina', 'Bolivia', 'Brasil ', 'Chile', 'Colombia', 'Ecuador']\n",
            "Todos: ['Argentina', 'Belice ', 'Bolivia', 'Brasil ', 'Canadá', 'Chile', 'Colombia', 'Costa Rica', 'Ecuador', 'El Salvador', 'Estados Unidos', 'Guatemala', 'Honduras ', 'México', 'Nicaragua']\n"
          ],
          "name": "stdout"
        }
      ]
    }
  ]
}