{
  "nbformat": 4,
  "nbformat_minor": 0,
  "metadata": {
    "colab": {
      "name": "28_ene_CyP.ipynb",
      "provenance": [],
      "authorship_tag": "ABX9TyOjvE35q8wUx9/XGQLRHCYs",
      "include_colab_link": true
    },
    "kernelspec": {
      "name": "python3",
      "display_name": "Python 3"
    }
  },
  "cells": [
    {
      "cell_type": "markdown",
      "metadata": {
        "id": "view-in-github",
        "colab_type": "text"
      },
      "source": [
        "<a href=\"https://colab.research.google.com/github/AngelValentin9/cyp_2021/blob/main/28_ene_CyP.ipynb\" target=\"_parent\"><img src=\"https://colab.research.google.com/assets/colab-badge.svg\" alt=\"Open In Colab\"/></a>"
      ]
    },
    {
      "cell_type": "markdown",
      "metadata": {
        "id": "y03KuL0VBiZo"
      },
      "source": [
        "#Tuplas\r\n",
        "\r\n",
        "- Tipo de dato líneal, estructura de datos\r\n",
        "- No mutable.\r\n",
        "- Puede conterner de 0 a n elementos.\r\n",
        "- Se declara con '(' y')'\r\n",
        "- No puedes agregar, ni eliminar elementos.\r\n",
        "- Pueden ser anidadas.\r\n",
        "- Los argumentos a una función son enviadas como tuplas.\r\n",
        "\r\n"
      ]
    },
    {
      "cell_type": "code",
      "metadata": {
        "colab": {
          "base_uri": "https://localhost:8080/"
        },
        "id": "r7ZAnadcA1Bp",
        "outputId": "d4063c9f-1d2a-45f8-d39b-05a3ba8f4664"
      },
      "source": [
        "Frutas = ('Sandía','Melón','Limón','Mango''Melón')\r\n",
        "print(Frutas)\r\n",
        "print(Frutas[1:3:1])\r\n",
        "print(Frutas.count('Manzanas') )\r\n",
        "\r\n",
        "#Son inmutables\r\n",
        "#frutas[1]= \"Manzana\"\r\n",
        "\r\n",
        "#¿Pa que se usan?\r\n",
        "conexión=('132.248.12.12', 3306 , 'cyp_bd' , 'usr_test' , '1234dios' )\r\n",
        "print(f\"usuario:{ conexión[3] } y passwd: {conexión[4] } \")"
      ],
      "execution_count": 10,
      "outputs": [
        {
          "output_type": "stream",
          "text": [
            "('Sandía', 'Melón', 'Limón', 'MangoMelón')\n",
            "('Melón', 'Limón')\n",
            "0\n",
            "usuario:usr_test y passwd: 1234dios \n"
          ],
          "name": "stdout"
        }
      ]
    },
    {
      "cell_type": "code",
      "metadata": {
        "colab": {
          "base_uri": "https://localhost:8080/"
        },
        "id": "h4n2XCpGDWOi",
        "outputId": "fadc150e-a980-4c22-d8c9-ed9c5dcd7cb1"
      },
      "source": [
        "print( dir(Frutas) )"
      ],
      "execution_count": 4,
      "outputs": [
        {
          "output_type": "stream",
          "text": [
            "['__add__', '__class__', '__contains__', '__delattr__', '__dir__', '__doc__', '__eq__', '__format__', '__ge__', '__getattribute__', '__getitem__', '__getnewargs__', '__gt__', '__hash__', '__init__', '__init_subclass__', '__iter__', '__le__', '__len__', '__lt__', '__mul__', '__ne__', '__new__', '__reduce__', '__reduce_ex__', '__repr__', '__rmul__', '__setattr__', '__sizeof__', '__str__', '__subclasshook__', 'count', 'index']\n"
          ],
          "name": "stdout"
        }
      ]
    },
    {
      "cell_type": "markdown",
      "metadata": {
        "id": "hAmddJGTFrzF"
      },
      "source": [
        "# Diccionarios\r\n",
        "- Estrucutura de datos semi lineal.\r\n",
        "- Formada por pares, llave - valor.\r\n",
        "-Equivalentes al tipo de dato JSON, de JavaScript.\r\n",
        "- Utiliza organización por función de dispersión.\r\n",
        "- Se declara con los elementos '{' y '}'\r\n",
        "- El selector usa valores de tipo string ( llave )\r\n",
        "- No se puede seleccionar por offset[1]\r\n",
        "- Son mutables."
      ]
    },
    {
      "cell_type": "code",
      "metadata": {
        "colab": {
          "base_uri": "https://localhost:8080/"
        },
        "id": "ccWrwQTFMLil",
        "outputId": "0d1d41dc-fe0b-4639-cb3a-20e2bc0d1a2a"
      },
      "source": [
        "alumno = {'nombre':'Juan Pérez',\r\n",
        "          'edad':18,\r\n",
        "          'altura':1.71,\r\n",
        "          'estatus':'Aprobado',\r\n",
        "      'numeros':[555645902, 55326372]}\r\n",
        "print(alumno)\r\n",
        "print( alumno ['numeros'])\r\n",
        "print( f\"Celular del alumno: { alumno ['numeros'][0]} \")\r\n"
      ],
      "execution_count": 45,
      "outputs": [
        {
          "output_type": "stream",
          "text": [
            "{'nombre': 'Juan Pérez', 'edad': 18, 'altura': 1.71, 'estatus': 'Aprobado', 'numeros': [555645902, 55326372]}\n",
            "[555645902, 55326372]\n",
            "Celular del alumno: 555645902 \n"
          ],
          "name": "stdout"
        }
      ]
    },
    {
      "cell_type": "code",
      "metadata": {
        "colab": {
          "base_uri": "https://localhost:8080/"
        },
        "id": "MfLh85IDM_8N",
        "outputId": "1b31aa23-64d9-4c8e-85dc-0f3839fc1313"
      },
      "source": [
        "materia = [\"Algebra\", \"Computadoras y Programacion\", \"Calculo Diferencial e Integral\", \"Introduccion a la Ingenieria\", \"Geometria Analitica\"]\r\n",
        "alumno = {\"ID\" : (123456789), \"Nombre\" : \"Yael\", \r\n",
        "          \"Apellido\" : \"Castillo\", \r\n",
        "          \"Edad\" : 20, \r\n",
        "          \"Escuela\" : \"FES Aragon\", \r\n",
        "          \"Materia\" : materia}\r\n",
        "for i in alumno:\r\n",
        "    print(f\"Clave: {i} - Valor: {alumno[i]}\")\r\n",
        "    "
      ],
      "execution_count": 43,
      "outputs": [
        {
          "output_type": "stream",
          "text": [
            "Clave: ID - Valor: 123456789\n",
            "Clave: Nombre - Valor: Yael\n",
            "Clave: Apellido - Valor: Castillo\n",
            "Clave: Edad - Valor: 20\n",
            "Clave: Escuela - Valor: FES Aragon\n",
            "Clave: Materia - Valor: ['Algebra', 'Computadoras y Programacion', 'Calculo Diferencial e Integral', 'Introduccion a la Ingenieria', 'Geometria Analitica']\n"
          ],
          "name": "stdout"
        }
      ]
    },
    {
      "cell_type": "code",
      "metadata": {
        "colab": {
          "base_uri": "https://localhost:8080/"
        },
        "id": "xbqXRnIKNMPe",
        "outputId": "daaa0d8c-c980-4329-b479-c5260b18dd00"
      },
      "source": [
        "alumno = {'nombre' : 'Juan Pérez', \r\n",
        "          'edad' : 18,\r\n",
        "          'Matricula' : 312193, \r\n",
        "          'calificaciones' : {'Mate': 8, 'ciencias': 9, 'ingles': 8},\r\n",
        "          'aprobado' : True, \r\n",
        "          'dirección': {\r\n",
        "                        'calle':'rancho seco',\r\n",
        "                        'numero': 's/n',\r\n",
        "                        'colonia': 'impulsora pupular avicola',\r\n",
        "                        'municipio': 'Mi-nezota',\r\n",
        "                        'estado':{\r\n",
        "                                  'clave': 15,\r\n",
        "                                  'nombre_clave': 'MEX',\r\n",
        "                                 'nombre':'Estado de México'\r\n",
        "\r\n",
        "                                 }\r\n",
        "                        }\r\n",
        "          }             \r\n",
        "print(alumno)\r\n",
        "print(alumno['nombre'])\r\n",
        "print(alumno['calificaciones'])\r\n",
        "#9 calificación de ciencias ??\r\n",
        "print( alumno['calificaciones']['ciencias'] )\r\n",
        "#Nombre, todo en mayúscula\r\n",
        "print(alumno['nombre'].upper())\r\n",
        "print(\"-----------------\")\r\n",
        "print(alumno)\r\n",
        "alumno['seguro']=True\r\n",
        "print(alumno)\r\n",
        "alumno['dirección']['CP'] = 58170\r\n",
        "print(alumno)"
      ],
      "execution_count": 72,
      "outputs": [
        {
          "output_type": "stream",
          "text": [
            "{'nombre': 'Juan Pérez', 'edad': 18, 'Matricula': 312193, 'calificaciones': {'Mate': 8, 'ciencias': 9, 'ingles': 8}, 'aprobado': True, 'dirección': {'calle': 'rancho seco', 'numero': 's/n', 'colonia': 'impulsora pupular avicola', 'municipio': 'Mi-nezota', 'estado': {'clave': 15, 'nombre_clave': 'MEX', 'nombre': 'Estado de México'}}}\n",
            "Juan Pérez\n",
            "{'Mate': 8, 'ciencias': 9, 'ingles': 8}\n",
            "9\n",
            "JUAN PÉREZ\n",
            "-----------------\n",
            "{'nombre': 'Juan Pérez', 'edad': 18, 'Matricula': 312193, 'calificaciones': {'Mate': 8, 'ciencias': 9, 'ingles': 8}, 'aprobado': True, 'dirección': {'calle': 'rancho seco', 'numero': 's/n', 'colonia': 'impulsora pupular avicola', 'municipio': 'Mi-nezota', 'estado': {'clave': 15, 'nombre_clave': 'MEX', 'nombre': 'Estado de México'}}}\n",
            "{'nombre': 'Juan Pérez', 'edad': 18, 'Matricula': 312193, 'calificaciones': {'Mate': 8, 'ciencias': 9, 'ingles': 8}, 'aprobado': True, 'dirección': {'calle': 'rancho seco', 'numero': 's/n', 'colonia': 'impulsora pupular avicola', 'municipio': 'Mi-nezota', 'estado': {'clave': 15, 'nombre_clave': 'MEX', 'nombre': 'Estado de México'}}, 'seguro': True}\n",
            "{'nombre': 'Juan Pérez', 'edad': 18, 'Matricula': 312193, 'calificaciones': {'Mate': 8, 'ciencias': 9, 'ingles': 8}, 'aprobado': True, 'dirección': {'calle': 'rancho seco', 'numero': 's/n', 'colonia': 'impulsora pupular avicola', 'municipio': 'Mi-nezota', 'estado': {'clave': 15, 'nombre_clave': 'MEX', 'nombre': 'Estado de México'}, 'CP': 58170}, 'seguro': True}\n"
          ],
          "name": "stdout"
        }
      ]
    },
    {
      "cell_type": "code",
      "metadata": {
        "colab": {
          "base_uri": "https://localhost:8080/"
        },
        "id": "pIoSQGXVVPG3",
        "outputId": "97f794aa-425b-49b0-aef9-b06f1f4c5ea1"
      },
      "source": [
        "funciones= dir( dict )\r\n",
        "for funcion in funciones\r\n",
        "  print(funciones)"
      ],
      "execution_count": 59,
      "outputs": [
        {
          "output_type": "stream",
          "text": [
            "['__class__', '__contains__', '__delattr__', '__delitem__', '__dir__', '__doc__', '__eq__', '__format__', '__ge__', '__getattribute__', '__getitem__', '__gt__', '__hash__', '__init__', '__init_subclass__', '__iter__', '__le__', '__len__', '__lt__', '__ne__', '__new__', '__reduce__', '__reduce_ex__', '__repr__', '__setattr__', '__setitem__', '__sizeof__', '__str__', '__subclasshook__', 'clear', 'copy', 'fromkeys', 'get', 'items', 'keys', 'pop', 'popitem', 'setdefault', 'update', 'values']\n"
          ],
          "name": "stdout"
        }
      ]
    },
    {
      "cell_type": "markdown",
      "metadata": {
        "id": "Hw1LplJ_VxGA"
      },
      "source": [
        "# Manipulación de los pares de llave valor.\r\n",
        "Para ello se emplean los métodos:\r\n",
        "- Keys() te regresa una tupla con los strings llave del diccionario\r\n",
        "- Values() te regresa solo los valores\r\n",
        "- Items() Te regresa los pares"
      ]
    },
    {
      "cell_type": "code",
      "metadata": {
        "colab": {
          "base_uri": "https://localhost:8080/"
        },
        "id": "YIzElUxyWaEF",
        "outputId": "a58bc838-4228-4644-eb26-75543c3ce887"
      },
      "source": [
        "print( help( dict.keys))"
      ],
      "execution_count": 62,
      "outputs": [
        {
          "output_type": "stream",
          "text": [
            "Help on method_descriptor:\n",
            "\n",
            "keys(...)\n",
            "    D.keys() -> a set-like object providing a view on D's keys\n",
            "\n",
            "None\n"
          ],
          "name": "stdout"
        }
      ]
    },
    {
      "cell_type": "code",
      "metadata": {
        "colab": {
          "base_uri": "https://localhost:8080/"
        },
        "id": "lDx4KhOFWLSi",
        "outputId": "91ea2cc4-91ae-4092-bf9a-57d213c85362"
      },
      "source": [
        "print(alumno)\r\n",
        "llaves = alumno.keys()\r\n",
        "print( llaves )\r\n",
        "for elem in llaves:\r\n",
        "  print( elem )\r\n",
        "  print( alumno[elem])\r\n",
        "#print( help( llaves ) )\r\n",
        "\r\n",
        "#manipular los valores\r\n",
        "valores = alumno.values()\r\n",
        "print(valores)\r\n",
        "print(\"-------.-\")\r\n",
        "for val in valores:\r\n",
        "  print(val)\r\n",
        "\r\n",
        "#manipular pares \r\n",
        "pares = alumno.items()\r\n",
        "print(pares)\r\n",
        "for par in pares:\r\n",
        "  print(par )"
      ],
      "execution_count": 74,
      "outputs": [
        {
          "output_type": "stream",
          "text": [
            "{'nombre': 'Juan Pérez', 'edad': 18, 'Matricula': 312193, 'calificaciones': {'Mate': 8, 'ciencias': 9, 'ingles': 8}, 'aprobado': True, 'dirección': {'calle': 'rancho seco', 'numero': 's/n', 'colonia': 'impulsora pupular avicola', 'municipio': 'Mi-nezota', 'estado': {'clave': 15, 'nombre_clave': 'MEX', 'nombre': 'Estado de México'}, 'CP': 58170}, 'seguro': True}\n",
            "dict_keys(['nombre', 'edad', 'Matricula', 'calificaciones', 'aprobado', 'dirección', 'seguro'])\n",
            "nombre\n",
            "Juan Pérez\n",
            "edad\n",
            "18\n",
            "Matricula\n",
            "312193\n",
            "calificaciones\n",
            "{'Mate': 8, 'ciencias': 9, 'ingles': 8}\n",
            "aprobado\n",
            "True\n",
            "dirección\n",
            "{'calle': 'rancho seco', 'numero': 's/n', 'colonia': 'impulsora pupular avicola', 'municipio': 'Mi-nezota', 'estado': {'clave': 15, 'nombre_clave': 'MEX', 'nombre': 'Estado de México'}, 'CP': 58170}\n",
            "seguro\n",
            "True\n",
            "dict_values(['Juan Pérez', 18, 312193, {'Mate': 8, 'ciencias': 9, 'ingles': 8}, True, {'calle': 'rancho seco', 'numero': 's/n', 'colonia': 'impulsora pupular avicola', 'municipio': 'Mi-nezota', 'estado': {'clave': 15, 'nombre_clave': 'MEX', 'nombre': 'Estado de México'}, 'CP': 58170}, True])\n",
            "-------.-\n",
            "Juan Pérez\n",
            "18\n",
            "312193\n",
            "{'Mate': 8, 'ciencias': 9, 'ingles': 8}\n",
            "True\n",
            "{'calle': 'rancho seco', 'numero': 's/n', 'colonia': 'impulsora pupular avicola', 'municipio': 'Mi-nezota', 'estado': {'clave': 15, 'nombre_clave': 'MEX', 'nombre': 'Estado de México'}, 'CP': 58170}\n",
            "True\n",
            "dict_items([('nombre', 'Juan Pérez'), ('edad', 18), ('Matricula', 312193), ('calificaciones', {'Mate': 8, 'ciencias': 9, 'ingles': 8}), ('aprobado', True), ('dirección', {'calle': 'rancho seco', 'numero': 's/n', 'colonia': 'impulsora pupular avicola', 'municipio': 'Mi-nezota', 'estado': {'clave': 15, 'nombre_clave': 'MEX', 'nombre': 'Estado de México'}, 'CP': 58170}), ('seguro', True)])\n",
            "('nombre', 'Juan Pérez')\n",
            "('edad', 18)\n",
            "('Matricula', 312193)\n",
            "('calificaciones', {'Mate': 8, 'ciencias': 9, 'ingles': 8})\n",
            "('aprobado', True)\n",
            "('dirección', {'calle': 'rancho seco', 'numero': 's/n', 'colonia': 'impulsora pupular avicola', 'municipio': 'Mi-nezota', 'estado': {'clave': 15, 'nombre_clave': 'MEX', 'nombre': 'Estado de México'}, 'CP': 58170})\n",
            "('seguro', True)\n"
          ],
          "name": "stdout"
        }
      ]
    },
    {
      "cell_type": "markdown",
      "metadata": {
        "id": "eZTvE3pkNDXJ"
      },
      "source": [
        "\r\n",
        "\r\n",
        "\r\n"
      ]
    }
  ]
}