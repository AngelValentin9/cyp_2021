{
  "nbformat": 4,
  "nbformat_minor": 0,
  "metadata": {
    "colab": {
      "name": "26_Ene_2021_CYP.ipynb",
      "provenance": [],
      "authorship_tag": "ABX9TyMqRqxeS93oeMKzhA72an6W",
      "include_colab_link": true
    },
    "kernelspec": {
      "name": "python3",
      "display_name": "Python 3"
    }
  },
  "cells": [
    {
      "cell_type": "markdown",
      "metadata": {
        "id": "view-in-github",
        "colab_type": "text"
      },
      "source": [
        "<a href=\"https://colab.research.google.com/github/AngelValentin9/cyp_2021/blob/main/26_Ene_2021_CYP.ipynb\" target=\"_parent\"><img src=\"https://colab.research.google.com/assets/colab-badge.svg\" alt=\"Open In Colab\"/></a>"
      ]
    },
    {
      "cell_type": "markdown",
      "metadata": {
        "id": "C6rUHJrXtGIy"
      },
      "source": [
        "#Listas de Python 3\r\n",
        "1. Es una estructura de datos lineal de 0 o n elementos.\r\n",
        "1. \"Equivalente\" a los arreglos.\r\n",
        "1. Puedn ser de diferente tipo de dato. [1,2,32,12] , [1, True, 2.34,\"Hola\"]\r\n",
        "*\r\n",
        "1. Pueden ser anidados, listas de listas. [\"Melón\", [\"Manzana roja\",\"Manzana amarilla\"]]\r\n",
        "1. Su selector es de la forma: [int]\r\n",
        "1. Son mutables."
      ]
    },
    {
      "cell_type": "code",
      "metadata": {
        "colab": {
          "base_uri": "https://localhost:8080/"
        },
        "id": "q126rLYGsvhm",
        "outputId": "3a738142-3ad8-47ac-f025-4efba2d89f89"
      },
      "source": [
        "#ejemplos\r\n",
        "numeros = [4,2,45,7,83,3]\r\n",
        "print(numeros)\r\n",
        "print(numeros[2])\r\n",
        "\r\n",
        "#una lista de 0 elementos \r\n",
        "colores=[] # list()\r\n",
        "type(colores) #Averiguar de que tipo de dato es una variable con la función\r\n",
        "dias= list()\r\n",
        "print(colores)\r\n",
        "print(dias)"
      ],
      "execution_count": 4,
      "outputs": [
        {
          "output_type": "stream",
          "text": [
            "[4, 2, 45, 7, 83, 3]\n",
            "45\n",
            "[]\n",
            "[]\n"
          ],
          "name": "stdout"
        }
      ]
    },
    {
      "cell_type": "code",
      "metadata": {
        "colab": {
          "base_uri": "https://localhost:8080/"
        },
        "id": "Aw-x_kAYwR_n",
        "outputId": "bcda82e5-a95b-46aa-b944-12d281b371e3"
      },
      "source": [
        "#Pueden de diferente tipo de datos\r\n",
        "\r\n",
        "mi_lista= [1,2,3,\"José\",False, 1.76,[5552117777,445512345678,5531245678]]\r\n",
        "print(mi_lista)\r\n",
        "print(mi_lista[5])\r\n",
        "print(mi_lista[6][1])\r\n",
        "print(mi_lista[3][3])\r\n",
        "print(mi_lista[3][3::] )\r\n",
        "print(mi_lista[3][-1::1])"
      ],
      "execution_count": 14,
      "outputs": [
        {
          "output_type": "stream",
          "text": [
            "[1, 2, 3, 'José', False, 1.76, [5552117777, 445512345678, 5531245678]]\n",
            "1.76\n",
            "445512345678\n",
            "é\n",
            "é\n",
            "é\n"
          ],
          "name": "stdout"
        }
      ]
    },
    {
      "cell_type": "code",
      "metadata": {
        "colab": {
          "base_uri": "https://localhost:8080/"
        },
        "id": "TQRcrogu0moA",
        "outputId": "72cc64b6-cb6b-42ee-dead-8809cf05a974"
      },
      "source": [
        "frutas=[\"melon\",\"sandia\",\"kiwi\",\"aguacate\",\"mangos\",\"platano\"]\r\n",
        "print(frutas)\r\n",
        "frutas[0]=\"melon\"\r\n",
        "print(frutas)\r\n",
        "#frutas[1]=\"S\"\r\n",
        "#print(frutas)\r\n",
        "#frutas[1][0]=\"S\"\r\n",
        "frutas[1] = frutas[1].capitalize()\r\n",
        "print(frutas)"
      ],
      "execution_count": 18,
      "outputs": [
        {
          "output_type": "stream",
          "text": [
            "['melon', 'sandia', 'kiwi', 'aguacate', 'mangos', 'platano']\n",
            "['melon', 'sandia', 'kiwi', 'aguacate', 'mangos', 'platano']\n",
            "['melon', 'Sandia', 'kiwi', 'aguacate', 'mangos', 'platano']\n"
          ],
          "name": "stdout"
        }
      ]
    },
    {
      "cell_type": "code",
      "metadata": {
        "colab": {
          "base_uri": "https://localhost:8080/"
        },
        "id": "3DPukoHd2IRm",
        "outputId": "34cb73a8-ee23-4ec7-8622-bb7fb31319a0"
      },
      "source": [
        "# Las listas son clases por lo tanto, tienen métodos.\r\n",
        "# Ejemplos: Append, agrega un elemneto al final\r\n",
        "frutas=[\"melon\",\"sandia\",\"kiwi\",\"aguacate\",\"mangos\",\"platano\"]\r\n",
        "frutas.append(\"Fresa\")\r\n",
        "print(frutas)\r\n",
        "\r\n",
        "print(\"Ejemplo de copias\")\r\n",
        "otras_frutas = frutas.copy()\r\n",
        "print(frutas)\r\n",
        "print(otras_frutas)\r\n",
        "otras_frutas[0]=\"Chico zapote\"\r\n",
        "print(otras_frutas)\r\n",
        "print(frutas)\r\n",
        "print(\"----------\")\r\n",
        "\r\n",
        "colores =[\"rojo\",\"verde\",\"azul\"]\r\n",
        "frutas.extend(colores)\r\n",
        "print(frutas)\r\n",
        "\r\n",
        "print(\"ejemplos insert\")\r\n",
        "print(f\"tamaño de la lista ={ len(frutas)}\")\r\n",
        "frutas.insert(3,\"Limon\")\r\n",
        "print(f\"tamaño de la lista ={ len(frutas)}\")\r\n",
        "print(frutas)\r\n",
        "\r\n",
        "print(\"ejemplos romeve, eliminar el kiwi\")\r\n",
        "frutas.remove(\"kiwi\")\r\n",
        "print(frutas)\r\n",
        "\r\n",
        "print(\"Ejemplo del\")\r\n",
        "del frutas[2]#Operador de listas\r\n",
        "print(frutas)\r\n",
        "frutas.clear()\r\n",
        "print(frutas)"
      ],
      "execution_count": 35,
      "outputs": [
        {
          "output_type": "stream",
          "text": [
            "['melon', 'sandia', 'kiwi', 'aguacate', 'mangos', 'platano', 'Fresa']\n",
            "Ejemplo de copias\n",
            "['melon', 'sandia', 'kiwi', 'aguacate', 'mangos', 'platano', 'Fresa']\n",
            "['melon', 'sandia', 'kiwi', 'aguacate', 'mangos', 'platano', 'Fresa']\n",
            "['Chico zapote', 'sandia', 'kiwi', 'aguacate', 'mangos', 'platano', 'Fresa']\n",
            "['melon', 'sandia', 'kiwi', 'aguacate', 'mangos', 'platano', 'Fresa']\n",
            "----------\n",
            "['melon', 'sandia', 'kiwi', 'aguacate', 'mangos', 'platano', 'Fresa', 'rojo', 'verde', 'azul']\n",
            "ejemplos insert\n",
            "tamaño de la lista =10\n",
            "tamaño de la lista =11\n",
            "['melon', 'sandia', 'kiwi', 'Limon', 'aguacate', 'mangos', 'platano', 'Fresa', 'rojo', 'verde', 'azul']\n",
            "ejemplos romeve, eliminar el kiwi\n",
            "['melon', 'sandia', 'Limon', 'aguacate', 'mangos', 'platano', 'Fresa', 'rojo', 'verde', 'azul']\n",
            "Ejemplo del\n",
            "['melon', 'sandia', 'aguacate', 'mangos', 'platano', 'Fresa', 'rojo', 'verde', 'azul']\n",
            "[]\n"
          ],
          "name": "stdout"
        }
      ]
    },
    {
      "cell_type": "code",
      "metadata": {
        "colab": {
          "base_uri": "https://localhost:8080/"
        },
        "id": "pGLobxuz-8Gs",
        "outputId": "ef25d5a1-4d99-4eb8-ab94-9d60ca465659"
      },
      "source": [
        "cosas = [\"jose\",True,2,3,4,5,\"pedro\",1.23]\r\n",
        "indice = 0\r\n",
        "a_eliminar=[]\r\n",
        "for elemento in cosas:\r\n",
        "    if isinstance( elemento , int ) :\r\n",
        "        print(\"entero\",elemento) # cosas.remove(elemento)\r\n",
        "        a_eliminar.append(elemento)\r\n",
        "    indice += 1\r\n",
        "\r\n",
        "print(a_eliminar)\r\n",
        "for indice in a_eliminar:\r\n",
        "    print( indice)\r\n",
        "    cosas.remove(indice)\r\n",
        "print(cosas)"
      ],
      "execution_count": 45,
      "outputs": [
        {
          "output_type": "stream",
          "text": [
            "entero True\n",
            "entero 2\n",
            "entero 3\n",
            "entero 4\n",
            "entero 5\n",
            "[True, 2, 3, 4, 5]\n",
            "True\n",
            "2\n",
            "3\n",
            "4\n",
            "5\n",
            "['jose', 'pedro', 1.23]\n"
          ],
          "name": "stdout"
        }
      ]
    },
    {
      "cell_type": "code",
      "metadata": {
        "id": "Zgmzn223-6bJ"
      },
      "source": [
        ""
      ],
      "execution_count": null,
      "outputs": []
    },
    {
      "cell_type": "code",
      "metadata": {
        "colab": {
          "base_uri": "https://localhost:8080/"
        },
        "id": "YlyqizUW2YBB",
        "outputId": "237d9438-cd73-4bd4-d125-49c063555633"
      },
      "source": [
        "help(frutas)"
      ],
      "execution_count": 19,
      "outputs": [
        {
          "output_type": "stream",
          "text": [
            "Help on list object:\n",
            "\n",
            "class list(object)\n",
            " |  list() -> new empty list\n",
            " |  list(iterable) -> new list initialized from iterable's items\n",
            " |  \n",
            " |  Methods defined here:\n",
            " |  \n",
            " |  __add__(self, value, /)\n",
            " |      Return self+value.\n",
            " |  \n",
            " |  __contains__(self, key, /)\n",
            " |      Return key in self.\n",
            " |  \n",
            " |  __delitem__(self, key, /)\n",
            " |      Delete self[key].\n",
            " |  \n",
            " |  __eq__(self, value, /)\n",
            " |      Return self==value.\n",
            " |  \n",
            " |  __ge__(self, value, /)\n",
            " |      Return self>=value.\n",
            " |  \n",
            " |  __getattribute__(self, name, /)\n",
            " |      Return getattr(self, name).\n",
            " |  \n",
            " |  __getitem__(...)\n",
            " |      x.__getitem__(y) <==> x[y]\n",
            " |  \n",
            " |  __gt__(self, value, /)\n",
            " |      Return self>value.\n",
            " |  \n",
            " |  __iadd__(self, value, /)\n",
            " |      Implement self+=value.\n",
            " |  \n",
            " |  __imul__(self, value, /)\n",
            " |      Implement self*=value.\n",
            " |  \n",
            " |  __init__(self, /, *args, **kwargs)\n",
            " |      Initialize self.  See help(type(self)) for accurate signature.\n",
            " |  \n",
            " |  __iter__(self, /)\n",
            " |      Implement iter(self).\n",
            " |  \n",
            " |  __le__(self, value, /)\n",
            " |      Return self<=value.\n",
            " |  \n",
            " |  __len__(self, /)\n",
            " |      Return len(self).\n",
            " |  \n",
            " |  __lt__(self, value, /)\n",
            " |      Return self<value.\n",
            " |  \n",
            " |  __mul__(self, value, /)\n",
            " |      Return self*value.\n",
            " |  \n",
            " |  __ne__(self, value, /)\n",
            " |      Return self!=value.\n",
            " |  \n",
            " |  __new__(*args, **kwargs) from builtins.type\n",
            " |      Create and return a new object.  See help(type) for accurate signature.\n",
            " |  \n",
            " |  __repr__(self, /)\n",
            " |      Return repr(self).\n",
            " |  \n",
            " |  __reversed__(...)\n",
            " |      L.__reversed__() -- return a reverse iterator over the list\n",
            " |  \n",
            " |  __rmul__(self, value, /)\n",
            " |      Return value*self.\n",
            " |  \n",
            " |  __setitem__(self, key, value, /)\n",
            " |      Set self[key] to value.\n",
            " |  \n",
            " |  __sizeof__(...)\n",
            " |      L.__sizeof__() -- size of L in memory, in bytes\n",
            " |  \n",
            " |  append(...)\n",
            " |      L.append(object) -> None -- append object to end\n",
            " |  \n",
            " |  clear(...)\n",
            " |      L.clear() -> None -- remove all items from L\n",
            " |  \n",
            " |  copy(...)\n",
            " |      L.copy() -> list -- a shallow copy of L\n",
            " |  \n",
            " |  count(...)\n",
            " |      L.count(value) -> integer -- return number of occurrences of value\n",
            " |  \n",
            " |  extend(...)\n",
            " |      L.extend(iterable) -> None -- extend list by appending elements from the iterable\n",
            " |  \n",
            " |  index(...)\n",
            " |      L.index(value, [start, [stop]]) -> integer -- return first index of value.\n",
            " |      Raises ValueError if the value is not present.\n",
            " |  \n",
            " |  insert(...)\n",
            " |      L.insert(index, object) -- insert object before index\n",
            " |  \n",
            " |  pop(...)\n",
            " |      L.pop([index]) -> item -- remove and return item at index (default last).\n",
            " |      Raises IndexError if list is empty or index is out of range.\n",
            " |  \n",
            " |  remove(...)\n",
            " |      L.remove(value) -> None -- remove first occurrence of value.\n",
            " |      Raises ValueError if the value is not present.\n",
            " |  \n",
            " |  reverse(...)\n",
            " |      L.reverse() -- reverse *IN PLACE*\n",
            " |  \n",
            " |  sort(...)\n",
            " |      L.sort(key=None, reverse=False) -> None -- stable sort *IN PLACE*\n",
            " |  \n",
            " |  ----------------------------------------------------------------------\n",
            " |  Data and other attributes defined here:\n",
            " |  \n",
            " |  __hash__ = None\n",
            "\n"
          ],
          "name": "stdout"
        }
      ]
    },
    {
      "cell_type": "code",
      "metadata": {
        "colab": {
          "base_uri": "https://localhost:8080/"
        },
        "id": "pq8wy8LjFKcn",
        "outputId": "92ad81cf-941f-4b0e-c923-9084f244875a"
      },
      "source": [
        "#slicing sobre listas\r\n",
        "\r\n",
        "frutas=[\"melon\",\"sandia\",\"kiwi\",\"aguacate\",\"mangos\",\"platano\"]\r\n",
        "\r\n",
        "print(frutas[1:4:])\r\n",
        "\r\n",
        "\r\n",
        "sistemas_operativos =[\"Windows\",\"mac OS\",\"Linux\",\"Android\"]\r\n",
        "autos = [\"Ford\",\"mazda\",\"Honda\"]\r\n",
        "\r\n",
        "cosas = [ sistemas_operativos , autos ]\r\n",
        "print(cosas)\r\n",
        "print(cosas[1])\r\n",
        "print(cosas[0][2])\r\n",
        "print(cosas[0][3][2:5:1])\r\n",
        "#    dza\r\n",
        "print(cosas[1][1][-2:-5:-1])\r\n"
      ],
      "execution_count": 57,
      "outputs": [
        {
          "output_type": "stream",
          "text": [
            "['sandia', 'kiwi', 'aguacate']\n",
            "[['Windows', 'mac OS', 'Linux', 'Android'], ['Ford', 'mazda', 'Honda']]\n",
            "['Ford', 'mazda', 'Honda']\n",
            "Linux\n",
            "dro\n",
            "dza\n"
          ],
          "name": "stdout"
        }
      ]
    }
  ]
}