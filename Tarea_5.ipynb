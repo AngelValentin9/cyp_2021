{
  "nbformat": 4,
  "nbformat_minor": 0,
  "metadata": {
    "colab": {
      "name": "Tarea_5.ipynb",
      "provenance": [],
      "authorship_tag": "ABX9TyNv3x2Jmo8wzvbs2ncG4hHP",
      "include_colab_link": true
    },
    "kernelspec": {
      "name": "python3",
      "display_name": "Python 3"
    }
  },
  "cells": [
    {
      "cell_type": "markdown",
      "metadata": {
        "id": "view-in-github",
        "colab_type": "text"
      },
      "source": [
        "<a href=\"https://colab.research.google.com/github/AngelValentin9/cyp_2021/blob/main/Tarea_5.ipynb\" target=\"_parent\"><img src=\"https://colab.research.google.com/assets/colab-badge.svg\" alt=\"Open In Colab\"/></a>"
      ]
    },
    {
      "cell_type": "code",
      "metadata": {
        "colab": {
          "base_uri": "https://localhost:8080/"
        },
        "id": "FbhhaKiHKKHy",
        "outputId": "85a2a1b1-7c17-4bec-f3bb-717cc2c3d6f1"
      },
      "source": [
        "#Ejercicio 3.1 \r\n",
        "\r\n",
        "print (\"ingrese sueldo del trabajador #1:\")\r\n",
        "SUE1 = float (input())\r\n",
        "print (\"ingrese sueldo del trabajador #2:\")\r\n",
        "SUE2 = float (input())\r\n",
        "print (\"ingrese sueldo del trabajador #3:\")\r\n",
        "SUE3 = float (input())\r\n",
        "print (\"ingrese sueldo del trabajador #4:\")\r\n",
        "SUE4 = float (input())\r\n",
        "print (\"ingrese sueldo del trabajador #5:\")\r\n",
        "SUE5 = float (input())\r\n",
        "print (\"ingrese sueldo del trabajador #6:\")\r\n",
        "SUE6 = float (input())\r\n",
        "print (\"ingrese sueldo del trabajador #7:\")\r\n",
        "SUE7 = float (input())\r\n",
        "print (\"ingrese sueldo del trabajador #8:\")\r\n",
        "SUE8 = float (input())\r\n",
        "print (\"ingrese sueldo del trabajador #9:\")\r\n",
        "SUE9 = float (input())\r\n",
        "print (\"ingrese sueldo del trabajador #10:\")\r\n",
        "SUE10 = float (input())\r\n",
        "\r\n",
        "Nomina = SUE1+SUE2+SUE3+SUE4+SUE5+SUE6+SUE7+SUE8+SUE9+SUE10\r\n",
        "print(f\"Nomina total: ${Nomina}\")"
      ],
      "execution_count": 5,
      "outputs": [
        {
          "output_type": "stream",
          "text": [
            "ingrese sueldo del trabajador #1:\n",
            "1500\n",
            "ingrese sueldo del trabajador #2:\n",
            "700\n",
            "ingrese sueldo del trabajador #3:\n",
            "800\n",
            "ingrese sueldo del trabajador #4:\n",
            "300\n",
            "ingrese sueldo del trabajador #5:\n",
            "200\n",
            "ingrese sueldo del trabajador #6:\n",
            "20000\n",
            "ingrese sueldo del trabajador #7:\n",
            "1500\n",
            "ingrese sueldo del trabajador #8:\n",
            "10000\n",
            "ingrese sueldo del trabajador #9:\n",
            "7000\n",
            "ingrese sueldo del trabajador #10:\n",
            "13000\n",
            "Nomina total: $55000.0\n"
          ],
          "name": "stdout"
        }
      ]
    },
    {
      "cell_type": "code",
      "metadata": {
        "colab": {
          "base_uri": "https://localhost:8080/"
        },
        "id": "RjIrDyHMMdGI",
        "outputId": "ff3c8198-6802-4774-bc08-0b08c6bfe20c"
      },
      "source": [
        "#Ejercicio 3.1 (pag 109)\r\n",
        "salario = []\r\n",
        "cont = 0\r\n",
        "for i in range(10):\r\n",
        "  salario.append(float(input(f\"Salario: $\")))\r\n",
        "for i in salario :\r\n",
        "  cont += i\r\n",
        "print(f\"Nomina total: ${cont}\")"
      ],
      "execution_count": 7,
      "outputs": [
        {
          "output_type": "stream",
          "text": [
            "Salario: $1500\n",
            "Salario: $700\n",
            "Salario: $800\n",
            "Salario: $300\n",
            "Salario: $200\n",
            "Salario: $20000\n",
            "Salario: $1500\n",
            "Salario: $10000\n",
            "Salario: $7000\n",
            "Salario: $13000\n",
            "Nomina total: $55000.0\n"
          ],
          "name": "stdout"
        }
      ]
    },
    {
      "cell_type": "code",
      "metadata": {
        "colab": {
          "base_uri": "https://localhost:8080/"
        },
        "id": "yCXdZePjNPGJ",
        "outputId": "c6736402-0752-4d9f-f663-733bac78a248"
      },
      "source": [
        "#Ejercicio 3.4 (pag. 117)\r\n",
        "\r\n",
        "montoTotal = 0\r\n",
        "flag =1.0\r\n",
        "while flag > 0.0:\r\n",
        "  aux = float(input(\"Monto: $\"))\r\n",
        "  montoTotal += (aux if aux > 0.0 else 0.0)\r\n",
        "  flag = aux\r\n",
        "print(f\"El total de gastos es: ${montoTotal}\")\r\n"
      ],
      "execution_count": 8,
      "outputs": [
        {
          "output_type": "stream",
          "text": [
            "Monto: $2528\n",
            "Monto: $3500\n",
            "Monto: $1600\n",
            "Monto: $1850\n",
            "Monto: $150\n",
            "Monto: $-1\n",
            "El total de gastos es: $9628.0\n"
          ],
          "name": "stdout"
        }
      ]
    }
  ]
}