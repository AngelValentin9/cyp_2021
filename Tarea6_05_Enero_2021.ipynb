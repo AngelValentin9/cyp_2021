{
  "nbformat": 4,
  "nbformat_minor": 0,
  "metadata": {
    "colab": {
      "name": "Tarea6_05_Enero_2021.ipynb",
      "provenance": [],
      "authorship_tag": "ABX9TyOI/A5fgtrAW5zpdqBrjESr",
      "include_colab_link": true
    },
    "kernelspec": {
      "name": "python3",
      "display_name": "Python 3"
    }
  },
  "cells": [
    {
      "cell_type": "markdown",
      "metadata": {
        "id": "view-in-github",
        "colab_type": "text"
      },
      "source": [
        "<a href=\"https://colab.research.google.com/github/AngelValentin9/cyp_2021/blob/main/Tarea6_05_Enero_2021.ipynb\" target=\"_parent\"><img src=\"https://colab.research.google.com/assets/colab-badge.svg\" alt=\"Open In Colab\"/></a>"
      ]
    },
    {
      "cell_type": "code",
      "metadata": {
        "colab": {
          "base_uri": "https://localhost:8080/"
        },
        "id": "piy3Sm8OBXF2",
        "outputId": "2229814d-0cfc-4210-f1c4-136e56a8a6dd"
      },
      "source": [
        "#PROBLEMA 3.3 PAG. 124\r\n",
        "\r\n",
        "dato = int(input(\"Numero final: \"))\r\n",
        "if dato < 1 :\r\n",
        "  print(\"Solo numeros positivos mayores a cero\")\r\n",
        "else :\r\n",
        "  i=1\r\n",
        "  flag = True\r\n",
        "  cadenaD = \"\"\r\n",
        "  cadenaF = \"\"\r\n",
        "  while i <= dato :\r\n",
        "    aux = 1/i\r\n",
        "    cadenaD += (\"{0: .2f}\".format(1/i)) if flag else (\"{0:.2f}\".format(-(1/i)))\r\n",
        "    cadenaD += (\",\") if i < dato else \"\"\r\n",
        "    cadenaF += (f\"1/{i}\") if flag else (f\"-1/{i}\") \r\n",
        "    cadenaF += (\",\") if i < dato else \"\"\r\n",
        "    flag = not flag\r\n",
        "    i += 1\r\n",
        "  print(cadenaD)\r\n",
        "  print(cadenaF)\r\n"
      ],
      "execution_count": 40,
      "outputs": [
        {
          "output_type": "stream",
          "text": [
            "Numero final: 5\n",
            " 1.00,-0.50, 0.33,-0.25, 0.20\n",
            "1/1,-1/2,1/3,-1/4,1/5\n"
          ],
          "name": "stdout"
        }
      ]
    },
    {
      "cell_type": "code",
      "metadata": {
        "colab": {
          "base_uri": "https://localhost:8080/",
          "height": 555
        },
        "id": "21NC0e-gICgE",
        "outputId": "6b13579b-f155-425c-aa20-a46e609775fe"
      },
      "source": [
        "#Problema 3.4 PAG.126\r\n",
        "\r\n",
        "nom=0\r\n",
        "sue= float (input(\"Ingrese su sueldo \\n $\"))\r\n",
        "while (sue!=-1):\r\n",
        "  if (sue<=1000):\r\n",
        "    nsue=sue*1.15\r\n",
        "    \r\n",
        "  else:\r\n",
        "    nsue=sue*1.12\r\n",
        "\r\n",
        "  print(f\"Su nuevo sueldo es de $\",nsue)  \r\n",
        "  nom=nom+nsue\r\n",
        "  sue= float (input(\"Ingrese su sueldo\\n $\"))\r\n",
        "\r\n",
        "print(\"La nomina empresarial es de $\",nom)"
      ],
      "execution_count": 9,
      "outputs": [
        {
          "output_type": "error",
          "ename": "KeyboardInterrupt",
          "evalue": "ignored",
          "traceback": [
            "\u001b[0;31m---------------------------------------------------------------------------\u001b[0m",
            "\u001b[0;31mKeyboardInterrupt\u001b[0m                         Traceback (most recent call last)",
            "\u001b[0;32m/usr/local/lib/python3.6/dist-packages/ipykernel/kernelbase.py\u001b[0m in \u001b[0;36m_input_request\u001b[0;34m(self, prompt, ident, parent, password)\u001b[0m\n\u001b[1;32m    728\u001b[0m             \u001b[0;32mtry\u001b[0m\u001b[0;34m:\u001b[0m\u001b[0;34m\u001b[0m\u001b[0;34m\u001b[0m\u001b[0m\n\u001b[0;32m--> 729\u001b[0;31m                 \u001b[0mident\u001b[0m\u001b[0;34m,\u001b[0m \u001b[0mreply\u001b[0m \u001b[0;34m=\u001b[0m \u001b[0mself\u001b[0m\u001b[0;34m.\u001b[0m\u001b[0msession\u001b[0m\u001b[0;34m.\u001b[0m\u001b[0mrecv\u001b[0m\u001b[0;34m(\u001b[0m\u001b[0mself\u001b[0m\u001b[0;34m.\u001b[0m\u001b[0mstdin_socket\u001b[0m\u001b[0;34m,\u001b[0m \u001b[0;36m0\u001b[0m\u001b[0;34m)\u001b[0m\u001b[0;34m\u001b[0m\u001b[0;34m\u001b[0m\u001b[0m\n\u001b[0m\u001b[1;32m    730\u001b[0m             \u001b[0;32mexcept\u001b[0m \u001b[0mException\u001b[0m\u001b[0;34m:\u001b[0m\u001b[0;34m\u001b[0m\u001b[0;34m\u001b[0m\u001b[0m\n",
            "\u001b[0;32m/usr/local/lib/python3.6/dist-packages/jupyter_client/session.py\u001b[0m in \u001b[0;36mrecv\u001b[0;34m(self, socket, mode, content, copy)\u001b[0m\n\u001b[1;32m    802\u001b[0m         \u001b[0;32mtry\u001b[0m\u001b[0;34m:\u001b[0m\u001b[0;34m\u001b[0m\u001b[0;34m\u001b[0m\u001b[0m\n\u001b[0;32m--> 803\u001b[0;31m             \u001b[0mmsg_list\u001b[0m \u001b[0;34m=\u001b[0m \u001b[0msocket\u001b[0m\u001b[0;34m.\u001b[0m\u001b[0mrecv_multipart\u001b[0m\u001b[0;34m(\u001b[0m\u001b[0mmode\u001b[0m\u001b[0;34m,\u001b[0m \u001b[0mcopy\u001b[0m\u001b[0;34m=\u001b[0m\u001b[0mcopy\u001b[0m\u001b[0;34m)\u001b[0m\u001b[0;34m\u001b[0m\u001b[0;34m\u001b[0m\u001b[0m\n\u001b[0m\u001b[1;32m    804\u001b[0m         \u001b[0;32mexcept\u001b[0m \u001b[0mzmq\u001b[0m\u001b[0;34m.\u001b[0m\u001b[0mZMQError\u001b[0m \u001b[0;32mas\u001b[0m \u001b[0me\u001b[0m\u001b[0;34m:\u001b[0m\u001b[0;34m\u001b[0m\u001b[0;34m\u001b[0m\u001b[0m\n",
            "\u001b[0;32m/usr/local/lib/python3.6/dist-packages/zmq/sugar/socket.py\u001b[0m in \u001b[0;36mrecv_multipart\u001b[0;34m(self, flags, copy, track)\u001b[0m\n\u001b[1;32m    565\u001b[0m         \"\"\"\n\u001b[0;32m--> 566\u001b[0;31m         \u001b[0mparts\u001b[0m \u001b[0;34m=\u001b[0m \u001b[0;34m[\u001b[0m\u001b[0mself\u001b[0m\u001b[0;34m.\u001b[0m\u001b[0mrecv\u001b[0m\u001b[0;34m(\u001b[0m\u001b[0mflags\u001b[0m\u001b[0;34m,\u001b[0m \u001b[0mcopy\u001b[0m\u001b[0;34m=\u001b[0m\u001b[0mcopy\u001b[0m\u001b[0;34m,\u001b[0m \u001b[0mtrack\u001b[0m\u001b[0;34m=\u001b[0m\u001b[0mtrack\u001b[0m\u001b[0;34m)\u001b[0m\u001b[0;34m]\u001b[0m\u001b[0;34m\u001b[0m\u001b[0;34m\u001b[0m\u001b[0m\n\u001b[0m\u001b[1;32m    567\u001b[0m         \u001b[0;31m# have first part already, only loop while more to receive\u001b[0m\u001b[0;34m\u001b[0m\u001b[0;34m\u001b[0m\u001b[0;34m\u001b[0m\u001b[0m\n",
            "\u001b[0;32mzmq/backend/cython/socket.pyx\u001b[0m in \u001b[0;36mzmq.backend.cython.socket.Socket.recv\u001b[0;34m()\u001b[0m\n",
            "\u001b[0;32mzmq/backend/cython/socket.pyx\u001b[0m in \u001b[0;36mzmq.backend.cython.socket.Socket.recv\u001b[0;34m()\u001b[0m\n",
            "\u001b[0;32mzmq/backend/cython/socket.pyx\u001b[0m in \u001b[0;36mzmq.backend.cython.socket._recv_copy\u001b[0;34m()\u001b[0m\n",
            "\u001b[0;32m/usr/local/lib/python3.6/dist-packages/zmq/backend/cython/checkrc.pxd\u001b[0m in \u001b[0;36mzmq.backend.cython.checkrc._check_rc\u001b[0;34m()\u001b[0m\n",
            "\u001b[0;31mKeyboardInterrupt\u001b[0m: ",
            "\nDuring handling of the above exception, another exception occurred:\n",
            "\u001b[0;31mKeyboardInterrupt\u001b[0m                         Traceback (most recent call last)",
            "\u001b[0;32m<ipython-input-9-45cfd9aab586>\u001b[0m in \u001b[0;36m<module>\u001b[0;34m()\u001b[0m\n\u001b[1;32m      2\u001b[0m \u001b[0;34m\u001b[0m\u001b[0m\n\u001b[1;32m      3\u001b[0m \u001b[0mnom\u001b[0m\u001b[0;34m=\u001b[0m\u001b[0;36m0\u001b[0m\u001b[0;34m\u001b[0m\u001b[0;34m\u001b[0m\u001b[0m\n\u001b[0;32m----> 4\u001b[0;31m \u001b[0msue\u001b[0m\u001b[0;34m=\u001b[0m \u001b[0mfloat\u001b[0m \u001b[0;34m(\u001b[0m\u001b[0minput\u001b[0m\u001b[0;34m(\u001b[0m\u001b[0;34m\"Ingrese su sueldo \\n $\"\u001b[0m\u001b[0;34m)\u001b[0m\u001b[0;34m)\u001b[0m\u001b[0;34m\u001b[0m\u001b[0;34m\u001b[0m\u001b[0m\n\u001b[0m\u001b[1;32m      5\u001b[0m \u001b[0;32mwhile\u001b[0m \u001b[0;34m(\u001b[0m\u001b[0msue\u001b[0m\u001b[0;34m!=\u001b[0m\u001b[0;34m-\u001b[0m\u001b[0;36m1\u001b[0m\u001b[0;34m)\u001b[0m\u001b[0;34m:\u001b[0m\u001b[0;34m\u001b[0m\u001b[0;34m\u001b[0m\u001b[0m\n\u001b[1;32m      6\u001b[0m   \u001b[0;32mif\u001b[0m \u001b[0;34m(\u001b[0m\u001b[0msue\u001b[0m\u001b[0;34m<=\u001b[0m\u001b[0;36m1000\u001b[0m\u001b[0;34m)\u001b[0m\u001b[0;34m:\u001b[0m\u001b[0;34m\u001b[0m\u001b[0;34m\u001b[0m\u001b[0m\n",
            "\u001b[0;32m/usr/local/lib/python3.6/dist-packages/ipykernel/kernelbase.py\u001b[0m in \u001b[0;36mraw_input\u001b[0;34m(self, prompt)\u001b[0m\n\u001b[1;32m    702\u001b[0m             \u001b[0mself\u001b[0m\u001b[0;34m.\u001b[0m\u001b[0m_parent_ident\u001b[0m\u001b[0;34m,\u001b[0m\u001b[0;34m\u001b[0m\u001b[0;34m\u001b[0m\u001b[0m\n\u001b[1;32m    703\u001b[0m             \u001b[0mself\u001b[0m\u001b[0;34m.\u001b[0m\u001b[0m_parent_header\u001b[0m\u001b[0;34m,\u001b[0m\u001b[0;34m\u001b[0m\u001b[0;34m\u001b[0m\u001b[0m\n\u001b[0;32m--> 704\u001b[0;31m             \u001b[0mpassword\u001b[0m\u001b[0;34m=\u001b[0m\u001b[0;32mFalse\u001b[0m\u001b[0;34m,\u001b[0m\u001b[0;34m\u001b[0m\u001b[0;34m\u001b[0m\u001b[0m\n\u001b[0m\u001b[1;32m    705\u001b[0m         )\n\u001b[1;32m    706\u001b[0m \u001b[0;34m\u001b[0m\u001b[0m\n",
            "\u001b[0;32m/usr/local/lib/python3.6/dist-packages/ipykernel/kernelbase.py\u001b[0m in \u001b[0;36m_input_request\u001b[0;34m(self, prompt, ident, parent, password)\u001b[0m\n\u001b[1;32m    732\u001b[0m             \u001b[0;32mexcept\u001b[0m \u001b[0mKeyboardInterrupt\u001b[0m\u001b[0;34m:\u001b[0m\u001b[0;34m\u001b[0m\u001b[0;34m\u001b[0m\u001b[0m\n\u001b[1;32m    733\u001b[0m                 \u001b[0;31m# re-raise KeyboardInterrupt, to truncate traceback\u001b[0m\u001b[0;34m\u001b[0m\u001b[0;34m\u001b[0m\u001b[0;34m\u001b[0m\u001b[0m\n\u001b[0;32m--> 734\u001b[0;31m                 \u001b[0;32mraise\u001b[0m \u001b[0mKeyboardInterrupt\u001b[0m\u001b[0;34m\u001b[0m\u001b[0;34m\u001b[0m\u001b[0m\n\u001b[0m\u001b[1;32m    735\u001b[0m             \u001b[0;32melse\u001b[0m\u001b[0;34m:\u001b[0m\u001b[0;34m\u001b[0m\u001b[0;34m\u001b[0m\u001b[0m\n\u001b[1;32m    736\u001b[0m                 \u001b[0;32mbreak\u001b[0m\u001b[0;34m\u001b[0m\u001b[0;34m\u001b[0m\u001b[0m\n",
            "\u001b[0;31mKeyboardInterrupt\u001b[0m: "
          ]
        }
      ]
    },
    {
      "cell_type": "code",
      "metadata": {
        "colab": {
          "base_uri": "https://localhost:8080/"
        },
        "id": "aEyjgCUPJDAY",
        "outputId": "bb110ec5-b2fc-443d-eca2-1516734a7059"
      },
      "source": [
        "#Problema 3.5 PAG. 129\r\n",
        "sumotr=0\r\n",
        "sumpos=0\r\n",
        "cuepos=0\r\n",
        "n= int (input(\"Ingrese la cantidad de números que desea sumar\\n\"))\r\n",
        "i=1\r\n",
        "for i in range (n):\r\n",
        "  num = int (input(f\"Ingrese el número {i+1}° \\n\"))\r\n",
        "  if (num>0):\r\n",
        "    sumpos=sumpos+num\r\n",
        "    cuepos=cuepos+1 \r\n",
        "    \r\n",
        "  else:\r\n",
        "    sumotr=sumotr+num\r\n",
        "   \r\n",
        "  i=i+1\r\n",
        "\r\n",
        "progen=(sumpos+sumotr)/n\r\n",
        "propos=(sumpos/cuepos)\r\n",
        "\r\n",
        "print(\"La cantidad de números positivos que ingreso fue de:\",cuepos)\r\n",
        "print(\"El promedio general de los números es:\",progen)\r\n",
        "print(\"El promedio de los números positivos ingresados fue de\", propos)"
      ],
      "execution_count": 10,
      "outputs": [
        {
          "output_type": "stream",
          "text": [
            "Ingrese la cantidad de números que desea sumar\n",
            "7\n",
            "Ingrese el número 1° \n",
            "20\n",
            "Ingrese el número 2° \n",
            "15\n",
            "Ingrese el número 3° \n",
            "13\n",
            "Ingrese el número 4° \n",
            "14\n",
            "Ingrese el número 5° \n",
            "15\n",
            "Ingrese el número 6° \n",
            "1\n",
            "Ingrese el número 7° \n",
            "0\n",
            "La cantidad de números positivos que ingreso fue de: 6\n",
            "El promedio general de los números es: 11.142857142857142\n",
            "El promedio de los números positivos ingresados fue de 13.0\n"
          ],
          "name": "stdout"
        }
      ]
    },
    {
      "cell_type": "code",
      "metadata": {
        "colab": {
          "base_uri": "https://localhost:8080/"
        },
        "id": "50v3ZGx_Jc3b",
        "outputId": "3e4b22b8-ba07-4ca1-b2f2-5cfd037e40ec"
      },
      "source": [
        "#Problema 3.6 PAG 132\r\n",
        "may=-100000\r\n",
        "men=100000\r\n",
        "n=int (input(\"Ingrese la cantidad de números a ingresar \\n\"))\r\n",
        "i=1\r\n",
        "for i in range (n):\r\n",
        "  num= int (input(f\"Ingrese el número entero {i+1}° \\n\"))\r\n",
        "  if (num>may):\r\n",
        "    may=num\r\n",
        "  else: \r\n",
        "    if (num<men):\r\n",
        "      men=num\r\n",
        "    else:\r\n",
        "      i=i+1\r\n",
        "\r\n",
        "print(\"El número mayor es:\",may)\r\n",
        "print(\"El número menor es:\", men)"
      ],
      "execution_count": 11,
      "outputs": [
        {
          "output_type": "stream",
          "text": [
            "Ingrese la cantidad de números a ingresar \n",
            "13\n",
            "Ingrese el número entero 1° \n",
            "100000\n",
            "Ingrese el número entero 2° \n",
            "170\n",
            "Ingrese el número entero 3° \n",
            "44\n",
            "Ingrese el número entero 4° \n",
            "815\n",
            "Ingrese el número entero 5° \n",
            "1700\n",
            "Ingrese el número entero 6° \n",
            "38\n",
            "Ingrese el número entero 7° \n",
            "140\n",
            "Ingrese el número entero 8° \n",
            "380\n",
            "Ingrese el número entero 9° \n",
            "1020\n",
            "Ingrese el número entero 10° \n",
            "116\n",
            "Ingrese el número entero 11° \n",
            "14\n",
            "Ingrese el número entero 12° \n",
            "730\n",
            "Ingrese el número entero 13° \n",
            "960\n",
            "El número mayor es: 100000\n",
            "El número menor es: 14\n"
          ],
          "name": "stdout"
        }
      ]
    },
    {
      "cell_type": "code",
      "metadata": {
        "colab": {
          "base_uri": "https://localhost:8080/"
        },
        "id": "X8odLxd-J5Av",
        "outputId": "b698f792-cede-4625-fc52-3d24bc50569e"
      },
      "source": [
        "#Problema 3.7 PAG 135\r\n",
        "med=0\r\n",
        "chi=0\r\n",
        "gra=0\r\n",
        "n=int (input(\"Ingrese la cantidad de ventas que realizo: \\n\"))\r\n",
        "i=1\r\n",
        "for i in range (n):\r\n",
        "  v =float (input(f\"Ingrese el valor de la venta {i+1}\\n $\"))\r\n",
        "  if (v<=200):\r\n",
        "    chi=chi+1\r\n",
        "  elif (v<400):\r\n",
        "    med=med+1\r\n",
        "  else:\r\n",
        "    gra=gra+1\r\n",
        "  i=i+1\r\n",
        "\r\n",
        "print(\"Usted realizo\",chi,\"ventas chicas\")\r\n",
        "print(\"Usted realizo\",med,\"ventas medianas\")\r\n",
        "print(\"Usted realizo\",gra,\"ventas grandes\")"
      ],
      "execution_count": 12,
      "outputs": [
        {
          "output_type": "stream",
          "text": [
            "Ingrese la cantidad de ventas que realizo: \n",
            "13\n",
            "Ingrese el valor de la venta 1\n",
            " $200\n",
            "Ingrese el valor de la venta 2\n",
            " $180.25\n",
            "Ingrese el valor de la venta 3\n",
            " $470.30\n",
            "Ingrese el valor de la venta 4\n",
            " $150.25\n",
            "Ingrese el valor de la venta 5\n",
            " $88.60\n",
            "Ingrese el valor de la venta 6\n",
            " $230.15\n",
            "Ingrese el valor de la venta 7\n",
            " $170.20\n",
            "Ingrese el valor de la venta 8\n",
            " $40.30\n",
            "Ingrese el valor de la venta 9\n",
            " $201.90\n",
            "Ingrese el valor de la venta 10\n",
            " $60.32\n",
            "Ingrese el valor de la venta 11\n",
            " $280.30\n",
            "Ingrese el valor de la venta 12\n",
            " $15.70\n",
            "Ingrese el valor de la venta 13\n",
            " $140.20\n",
            "Usted realizo 9 ventas chicas\n",
            "Usted realizo 3 ventas medianas\n",
            "Usted realizo 1 ventas grandes\n"
          ],
          "name": "stdout"
        }
      ]
    },
    {
      "cell_type": "code",
      "metadata": {
        "colab": {
          "base_uri": "https://localhost:8080/"
        },
        "id": "GDHhVRuaWvsm",
        "outputId": "10798777-a5dd-4094-96ea-cc3600467b43"
      },
      "source": [
        "#Problema 3.8 PAG 138\r\n",
        "\r\n",
        "numero = int (input(\"Numero: \"))\r\n",
        "if numero < 1 :\r\n",
        "  print(\"Solo numeros positivos \")\r\n",
        "\r\n",
        "else :\r\n",
        "  cadena = f\"{numero}, \"\r\n",
        "  while numero !=1 :\r\n",
        "    numero = (int(numero/2)) if numero%2 == 0 else ((numero * 3) + 1)\r\n",
        "    cadena += (f\"{numero}, \") if numero != 1 else (f\"{numero}\")\r\n",
        "print(cadena)"
      ],
      "execution_count": 33,
      "outputs": [
        {
          "output_type": "stream",
          "text": [
            "Numero: 76\n",
            "76, 38, 19, 58, 29, 88, 44, 22, 11, 34, 17, 52, 26, 13, 40, 20, 10, 5, 16, 8, 4, 2, 1\n"
          ],
          "name": "stdout"
        }
      ]
    },
    {
      "cell_type": "code",
      "metadata": {
        "colab": {
          "base_uri": "https://localhost:8080/"
        },
        "id": "PEkVH_6PK6zS",
        "outputId": "90355a3b-0843-48f8-d417-8e907d920525"
      },
      "source": [
        "#Problema 3.9 PAG 140\r\n",
        "\r\n",
        "Serie = 0\r\n",
        "\r\n",
        "N = int(input(\"Colocar el numero de terminos en la serie: \"))\r\n",
        "\r\n",
        "I = 1\r\n",
        "\r\n",
        "while (I <= N):\r\n",
        "  Serie = Serie + (I**I)\r\n",
        "  I = I +1\r\n",
        "print(Serie)"
      ],
      "execution_count": 19,
      "outputs": [
        {
          "output_type": "stream",
          "text": [
            "Colocar el numero de terminos en la serie: 8\n",
            "17650828\n"
          ],
          "name": "stdout"
        }
      ]
    },
    {
      "cell_type": "code",
      "metadata": {
        "colab": {
          "base_uri": "https://localhost:8080/"
        },
        "id": "-nmcyA30LZ6Z",
        "outputId": "d9604b39-71bc-4991-c1f2-92c31a421f5c"
      },
      "source": [
        "#Problema 3.10 PAG 142\r\n",
        "pri=0\r\n",
        "seg=1\r\n",
        "i=3\r\n",
        "for i in range (180):\r\n",
        "  sig=pri+seg\r\n",
        "  pri=seg\r\n",
        "  seg=sig\r\n",
        "  i=1+1\r\n",
        "\r\n",
        "print(f\"{sig}\")"
      ],
      "execution_count": 17,
      "outputs": [
        {
          "output_type": "stream",
          "text": [
            "30010821454963453907530667147829489881\n"
          ],
          "name": "stdout"
        }
      ]
    },
    {
      "cell_type": "code",
      "metadata": {
        "colab": {
          "base_uri": "https://localhost:8080/"
        },
        "id": "0dq02T6jMCL9",
        "outputId": "55a19637-a145-45fb-cdc1-2886afdb347f"
      },
      "source": [
        "#Problema 3.11 PAG 144\r\n",
        "can1=0\r\n",
        "can2=0\r\n",
        "can3=0\r\n",
        "can4=0\r\n",
        "print(\"Recuerde que solo hay 4 candidatos\")\r\n",
        "voto= int (input(\"INGRESE EL NÚMERO DEL CANDIDATO\\nPARA EL QUE SERA SU VOTO \\n\"))\r\n",
        "while (voto>0) and (voto<5):\r\n",
        "  if (voto == 1):\r\n",
        "    can1=can1+1\r\n",
        "  elif (voto==2):\r\n",
        "    can2=can2+1\r\n",
        "  elif (voto==3):\r\n",
        "    can3=can3+1\r\n",
        "  elif (voto==4):\r\n",
        "    can4=can4+1\r\n",
        "  voto= int (input(\"\\nINGRESE EL NÚMERO DEL CANDIDATO\\nPARA EL QUE SERA SU VOTO \\n\"))\r\n",
        "\r\n",
        "sumv=can1+can2+can3+can4\r\n",
        "por1=(can1/sumv)*100\r\n",
        "por2=(can2/sumv)*100\r\n",
        "por3=(can3/sumv)*100\r\n",
        "por4=(can4/sumv)*100\r\n",
        "\r\n",
        "print(\"En total, se sumaron\",sumv,\"votos\")\r\n",
        "print(\"Los votos que obtuvo el candidato #1 fueron\",can1,\"con un porcentaje del\",por1,\"%\")\r\n",
        "print(\"Los votos que obtuvo el candidato #2 fueron\",can2,\"con un porcentaje del\",por2,\"%\")\r\n",
        "print(\"Los votos que obtuvo el candidato #3 fueron\",can3,\"con un porcentaje del\",por3,\"%\")\r\n",
        "print(\"Los votos que obtuvo el candidato #4 fueron\",can4,\"con un porcentaje del\",por4,\"%\")"
      ],
      "execution_count": 21,
      "outputs": [
        {
          "output_type": "stream",
          "text": [
            "Recuerde que solo hay 4 candidatos\n",
            "INGRESE EL NÚMERO DEL CANDIDATO\n",
            "PARA EL QUE SERA SU VOTO \n",
            "1\n",
            "\n",
            "INGRESE EL NÚMERO DEL CANDIDATO\n",
            "PARA EL QUE SERA SU VOTO \n",
            "3\n",
            "\n",
            "INGRESE EL NÚMERO DEL CANDIDATO\n",
            "PARA EL QUE SERA SU VOTO \n",
            "1\n",
            "\n",
            "INGRESE EL NÚMERO DEL CANDIDATO\n",
            "PARA EL QUE SERA SU VOTO \n",
            "4\n",
            "\n",
            "INGRESE EL NÚMERO DEL CANDIDATO\n",
            "PARA EL QUE SERA SU VOTO \n",
            "2\n",
            "\n",
            "INGRESE EL NÚMERO DEL CANDIDATO\n",
            "PARA EL QUE SERA SU VOTO \n",
            "3\n",
            "\n",
            "INGRESE EL NÚMERO DEL CANDIDATO\n",
            "PARA EL QUE SERA SU VOTO \n",
            "1\n",
            "\n",
            "INGRESE EL NÚMERO DEL CANDIDATO\n",
            "PARA EL QUE SERA SU VOTO \n",
            "2\n",
            "\n",
            "INGRESE EL NÚMERO DEL CANDIDATO\n",
            "PARA EL QUE SERA SU VOTO \n",
            "3\n",
            "\n",
            "INGRESE EL NÚMERO DEL CANDIDATO\n",
            "PARA EL QUE SERA SU VOTO \n",
            "1\n",
            "\n",
            "INGRESE EL NÚMERO DEL CANDIDATO\n",
            "PARA EL QUE SERA SU VOTO \n",
            "4\n",
            "\n",
            "INGRESE EL NÚMERO DEL CANDIDATO\n",
            "PARA EL QUE SERA SU VOTO \n",
            "2\n",
            "\n",
            "INGRESE EL NÚMERO DEL CANDIDATO\n",
            "PARA EL QUE SERA SU VOTO \n",
            "1\n",
            "\n",
            "INGRESE EL NÚMERO DEL CANDIDATO\n",
            "PARA EL QUE SERA SU VOTO \n",
            "3\n",
            "\n",
            "INGRESE EL NÚMERO DEL CANDIDATO\n",
            "PARA EL QUE SERA SU VOTO \n",
            "4\n",
            "\n",
            "INGRESE EL NÚMERO DEL CANDIDATO\n",
            "PARA EL QUE SERA SU VOTO \n",
            "3\n",
            "\n",
            "INGRESE EL NÚMERO DEL CANDIDATO\n",
            "PARA EL QUE SERA SU VOTO \n",
            "1\n",
            "\n",
            "INGRESE EL NÚMERO DEL CANDIDATO\n",
            "PARA EL QUE SERA SU VOTO \n",
            "2\n",
            "\n",
            "INGRESE EL NÚMERO DEL CANDIDATO\n",
            "PARA EL QUE SERA SU VOTO \n",
            "4\n",
            "\n",
            "INGRESE EL NÚMERO DEL CANDIDATO\n",
            "PARA EL QUE SERA SU VOTO \n",
            "2\n",
            "\n",
            "INGRESE EL NÚMERO DEL CANDIDATO\n",
            "PARA EL QUE SERA SU VOTO \n",
            "3\n",
            "\n",
            "INGRESE EL NÚMERO DEL CANDIDATO\n",
            "PARA EL QUE SERA SU VOTO \n",
            "1\n",
            "\n",
            "INGRESE EL NÚMERO DEL CANDIDATO\n",
            "PARA EL QUE SERA SU VOTO \n",
            "5\n",
            "En total, se sumaron 22 votos\n",
            "Los votos que obtuvo el candidato #1 fueron 7 con un porcentaje del 31.818181818181817 %\n",
            "Los votos que obtuvo el candidato #2 fueron 5 con un porcentaje del 22.727272727272727 %\n",
            "Los votos que obtuvo el candidato #3 fueron 6 con un porcentaje del 27.27272727272727 %\n",
            "Los votos que obtuvo el candidato #4 fueron 4 con un porcentaje del 18.181818181818183 %\n"
          ],
          "name": "stdout"
        }
      ]
    },
    {
      "cell_type": "code",
      "metadata": {
        "colab": {
          "base_uri": "https://localhost:8080/"
        },
        "id": "qRjsQnIVMhvH",
        "outputId": "c124949c-d31d-4aa4-87d4-9967cb10ac3d"
      },
      "source": [
        "#Ejemplo 3.12 PAG 147\r\n",
        "masue=0\r\n",
        "n= int (input(\"Ingrese la cantidad de empleados\"))\r\n",
        "i=1\r\n",
        "for i in range (n):\r\n",
        "  print(f\"EMPLEADO NUMERO {i+1}\")\r\n",
        "  numemp= int (input(\"Ingrese su número de trabajador\\n\"))\r\n",
        "  sue= float (input(\"Ingrese su sueldo \\n$\"))\r\n",
        "  if (sue>masue):\r\n",
        "    masue= sue\r\n",
        "    manum=numemp\r\n",
        "  i=i+1\r\n",
        "\r\n",
        "print(\"El empleado con mayor sueldo es \",manum)\r\n",
        "print(\"Con un sueldo de $\",masue)"
      ],
      "execution_count": 26,
      "outputs": [
        {
          "output_type": "stream",
          "text": [
            "Ingrese la cantidad de empleados6\n",
            "EMPLEADO NUMERO 1\n",
            "Ingrese su número de trabajador\n",
            "1235\n",
            "Ingrese su sueldo \n",
            "$2580\n",
            "EMPLEADO NUMERO 2\n",
            "Ingrese su número de trabajador\n",
            "1260\n",
            "Ingrese su sueldo \n",
            "$1400\n",
            "EMPLEADO NUMERO 3\n",
            "Ingrese su número de trabajador\n",
            "1325\n",
            "Ingrese su sueldo \n",
            "$3600\n",
            "EMPLEADO NUMERO 4\n",
            "Ingrese su número de trabajador\n",
            "1418\n",
            "Ingrese su sueldo \n",
            "$2720\n",
            "EMPLEADO NUMERO 5\n",
            "Ingrese su número de trabajador\n",
            "1650\n",
            "Ingrese su sueldo \n",
            "$4120\n",
            "EMPLEADO NUMERO 6\n",
            "Ingrese su número de trabajador\n",
            "1717\n",
            "Ingrese su sueldo \n",
            "$1950\n",
            "El empleado con mayor sueldo es  1650\n",
            "Con un sueldo de $ 4120.0\n"
          ],
          "name": "stdout"
        }
      ]
    },
    {
      "cell_type": "code",
      "metadata": {
        "colab": {
          "base_uri": "https://localhost:8080/"
        },
        "id": "mOXhrXg6SR6Z",
        "outputId": "de54f200-fcd2-455d-d672-4b8c582720ba"
      },
      "source": [
        "#Problema 3.13 PAG 150\r\n",
        "arsu=0\r\n",
        "arno=0\r\n",
        "mersu=500000\r\n",
        "arce=0\r\n",
        "i=1\r\n",
        "for i in range (12):\r\n",
        "  rno=float (input(f\"{i+1}.- Ingrese la cantidad de lluvias que hubo en la REGION NORTE\\n\"))\r\n",
        "  rce=float (input(f\"{i+1}.- Ingrese la cantidad de lluvias que hubo en la REGION CENTRO\\n\"))\r\n",
        "  rsu=float (input(f\"{i+1}.- Ingrese la cantidad de lluvias que hubo en la REGION SUR\\n\"))\r\n",
        "  arno=arno+rno\r\n",
        "  arce=arce+rce\r\n",
        "  arsu=arsu+rsu\r\n",
        "  if (rsu<mersu):\r\n",
        "    mersu=rsu\r\n",
        "    mes=i+1\r\n",
        "  i=i+1\r\n",
        "prorce=arce/12\r\n",
        "print(\"El promedio de lluvia de la region centro es\",prorce,\"%\")\r\n",
        "print(\"El mes con menor lluvia en la región sur fue\",mes)\r\n",
        "print(\"Registro del mes:\",mersu)\r\n",
        "\r\n",
        "if (arno>arce):\r\n",
        "  if (arno>arsu):\r\n",
        "    print(\"La region con mayor lluvia es la region norte\")\r\n",
        "  else: \r\n",
        "    print(\"La region con mayor lluvia es la region sur\")\r\n",
        "else:\r\n",
        "  if (arce>arsu):\r\n",
        "    print(\"La region con mayor lluvia es la region centro\")\r\n",
        "  else:\r\n",
        "    print(\"La region con mayot lluvia es la region sur\")"
      ],
      "execution_count": 27,
      "outputs": [
        {
          "output_type": "stream",
          "text": [
            "1.- Ingrese la cantidad de lluvias que hubo en la REGION NORTE\n",
            "80\n",
            "1.- Ingrese la cantidad de lluvias que hubo en la REGION CENTRO\n",
            "70\n",
            "1.- Ingrese la cantidad de lluvias que hubo en la REGION SUR\n",
            "170\n",
            "2.- Ingrese la cantidad de lluvias que hubo en la REGION NORTE\n",
            "60\n",
            "2.- Ingrese la cantidad de lluvias que hubo en la REGION CENTRO\n",
            "85\n",
            "2.- Ingrese la cantidad de lluvias que hubo en la REGION SUR\n",
            "100\n",
            "3.- Ingrese la cantidad de lluvias que hubo en la REGION NORTE\n",
            "120\n",
            "3.- Ingrese la cantidad de lluvias que hubo en la REGION CENTRO\n",
            "100\n",
            "3.- Ingrese la cantidad de lluvias que hubo en la REGION SUR\n",
            "185\n",
            "4.- Ingrese la cantidad de lluvias que hubo en la REGION NORTE\n",
            "100\n",
            "4.- Ingrese la cantidad de lluvias que hubo en la REGION CENTRO\n",
            "90\n",
            "4.- Ingrese la cantidad de lluvias que hubo en la REGION SUR\n",
            "88\n",
            "5.- Ingrese la cantidad de lluvias que hubo en la REGION NORTE\n",
            "70\n",
            "5.- Ingrese la cantidad de lluvias que hubo en la REGION CENTRO\n",
            "82\n",
            "5.- Ingrese la cantidad de lluvias que hubo en la REGION SUR\n",
            "80\n",
            "6.- Ingrese la cantidad de lluvias que hubo en la REGION NORTE\n",
            "150\n",
            "6.- Ingrese la cantidad de lluvias que hubo en la REGION CENTRO\n",
            "130\n",
            "6.- Ingrese la cantidad de lluvias que hubo en la REGION SUR\n",
            "122\n",
            "7.- Ingrese la cantidad de lluvias que hubo en la REGION NORTE\n",
            "100\n",
            "7.- Ingrese la cantidad de lluvias que hubo en la REGION CENTRO\n",
            "95\n",
            "7.- Ingrese la cantidad de lluvias que hubo en la REGION SUR\n",
            "67\n",
            "8.- Ingrese la cantidad de lluvias que hubo en la REGION NORTE\n",
            "47\n",
            "8.- Ingrese la cantidad de lluvias que hubo en la REGION CENTRO\n",
            "38\n",
            "8.- Ingrese la cantidad de lluvias que hubo en la REGION SUR\n",
            "55\n",
            "9.- Ingrese la cantidad de lluvias que hubo en la REGION NORTE\n",
            "95\n",
            "9.- Ingrese la cantidad de lluvias que hubo en la REGION CENTRO\n",
            "115\n",
            "9.- Ingrese la cantidad de lluvias que hubo en la REGION SUR\n",
            "110\n",
            "10.- Ingrese la cantidad de lluvias que hubo en la REGION NORTE\n",
            "70\n",
            "10.- Ingrese la cantidad de lluvias que hubo en la REGION CENTRO\n",
            "62\n",
            "10.- Ingrese la cantidad de lluvias que hubo en la REGION SUR\n",
            "83\n",
            "11.- Ingrese la cantidad de lluvias que hubo en la REGION NORTE\n",
            "100\n",
            "11.- Ingrese la cantidad de lluvias que hubo en la REGION CENTRO\n",
            "87\n",
            "11.- Ingrese la cantidad de lluvias que hubo en la REGION SUR\n",
            "107\n",
            "12.- Ingrese la cantidad de lluvias que hubo en la REGION NORTE\n",
            "130\n",
            "12.- Ingrese la cantidad de lluvias que hubo en la REGION CENTRO\n",
            "103\n",
            "12.- Ingrese la cantidad de lluvias que hubo en la REGION SUR\n",
            "148\n",
            "El promedio de lluvia de la region centro es 88.08333333333333 %\n",
            "El mes con menor lluvia en la región sur fue 8\n",
            "Registro del mes: 55.0\n",
            "La region con mayor lluvia es la region sur\n"
          ],
          "name": "stdout"
        }
      ]
    },
    {
      "cell_type": "code",
      "metadata": {
        "colab": {
          "base_uri": "https://localhost:8080/"
        },
        "id": "cDdAtr3sTbMb",
        "outputId": "d784f57b-9c7f-457d-b2ec-8d9bc8caa320"
      },
      "source": [
        "#Problema 3.14 PAG 154\r\n",
        "ap1=0\r\n",
        "ap2=0\r\n",
        "ap3=0\r\n",
        "ap4=0\r\n",
        "ap5=0\r\n",
        "recau=0\r\n",
        "p1=float (input(\"Ingrese el precio de la localidad #1\\n $\"))\r\n",
        "p2=float (input(\"Ingrese el precio de la localidad #2\\n $\"))\r\n",
        "p3=float (input(\"Ingrese el precio de la localidad #3\\n $\"))\r\n",
        "p4=float (input(\"Ingrese el precio de la localidad #4\\n $\"))\r\n",
        "p5=float (input(\"Ingrese el precio de la localidad #5\\n $\"))\r\n",
        "clave=int (input(\"Indique el número de la localidad que desea comprar\\n\"))\r\n",
        "cant= int (input(\"¿Cuantos desea comprar?\\n\"))\r\n",
        "while ((clave!=-1) and (cant!=-1)):\r\n",
        "  if (clave<1) and (clave>4):\r\n",
        "    print(\"No existe esa clave\")\r\n",
        "  elif (clave==1):\r\n",
        "    pre=p1*cant\r\n",
        "    ap1=ap1+cant\r\n",
        "  elif (clave==2):\r\n",
        "    pre=p2*cant\r\n",
        "    ap2=ap2+cant\r\n",
        "  elif (clave==3):\r\n",
        "    pre=p3*cant\r\n",
        "    ap3=ap3+cant\r\n",
        "  elif (clave==4):\r\n",
        "    pre=p4*cant\r\n",
        "    ap4=ap4+cant \r\n",
        "  elif (clave==5):\r\n",
        "    pre=p5*cant\r\n",
        "    ap5=ap5+cant \r\n",
        "\r\n",
        "  print(\"CLAVE DE LOCALIDAD:\",clave,\"\\nCANTIDAD:\",cant,\"\\nPRECIO: $\",pre)  \r\n",
        "  recau=recau+pre\r\n",
        "  clave=int (input(\"Indique el número de la localidad que desea comprar\\n\"))\r\n",
        "  cant= int (input(\"¿Cuantos desea comprar?\\n\"))\r\n",
        "\r\n",
        "print(\"Usted compro\",ap1, \"boletos tipo 1\")\r\n",
        "print(\"Usted compro\",ap2, \"boletos tipo 2\")\r\n",
        "print(\"Usted compro\",ap3, \"boletos tipo 3\")\r\n",
        "print(\"Usted compro\",ap4, \"boletos tipo 4\")\r\n",
        "print(\"Usted compro\",ap5, \"boletos tipo 5\")\r\n",
        "print(\"Recaudacion del estado: $\",recau)"
      ],
      "execution_count": 31,
      "outputs": [
        {
          "output_type": "stream",
          "text": [
            "Ingrese el precio de la localidad #1\n",
            " $47.40\n",
            "Ingrese el precio de la localidad #2\n",
            " $200.00\n",
            "Ingrese el precio de la localidad #3\n",
            " $63.20\n",
            "Ingrese el precio de la localidad #4\n",
            " $43.5\n",
            "Ingrese el precio de la localidad #5\n",
            " $250.00\n",
            "Indique el número de la localidad que desea comprar\n",
            "1\n",
            "¿Cuantos desea comprar?\n",
            "8\n",
            "CLAVE DE LOCALIDAD: 1 \n",
            "CANTIDAD: 8 \n",
            "PRECIO: $ 379.2\n",
            "Indique el número de la localidad que desea comprar\n",
            "2\n",
            "¿Cuantos desea comprar?\n",
            "4\n",
            "CLAVE DE LOCALIDAD: 2 \n",
            "CANTIDAD: 4 \n",
            "PRECIO: $ 800.0\n",
            "Indique el número de la localidad que desea comprar\n",
            "3\n",
            "¿Cuantos desea comprar?\n",
            "6\n",
            "CLAVE DE LOCALIDAD: 3 \n",
            "CANTIDAD: 6 \n",
            "PRECIO: $ 379.20000000000005\n",
            "Indique el número de la localidad que desea comprar\n",
            "4\n",
            "¿Cuantos desea comprar?\n",
            "5\n",
            "CLAVE DE LOCALIDAD: 4 \n",
            "CANTIDAD: 5 \n",
            "PRECIO: $ 217.5\n",
            "Indique el número de la localidad que desea comprar\n",
            "5\n",
            "¿Cuantos desea comprar?\n",
            "12\n",
            "CLAVE DE LOCALIDAD: 5 \n",
            "CANTIDAD: 12 \n",
            "PRECIO: $ 3000.0\n",
            "Indique el número de la localidad que desea comprar\n",
            "-1\n",
            "¿Cuantos desea comprar?\n",
            "-1\n",
            "Usted compro 8 boletos tipo 1\n",
            "Usted compro 4 boletos tipo 2\n",
            "Usted compro 6 boletos tipo 3\n",
            "Usted compro 5 boletos tipo 4\n",
            "Usted compro 12 boletos tipo 5\n",
            "Recaudacion del estado: $ 4775.9\n"
          ],
          "name": "stdout"
        }
      ]
    },
    {
      "cell_type": "code",
      "metadata": {
        "colab": {
          "base_uri": "https://localhost:8080/"
        },
        "id": "zg_rHM4UZ4vS",
        "outputId": "1f64130b-bcba-4d46-8c3a-c1a4a6095e76"
      },
      "source": [
        "#Problema 3.15 PAG 157\r\n",
        "cl=0\r\n",
        "cuenta=0\r\n",
        "print(\"TIPOS DE LLAMADAS\\nLOCAL=l   NACIONAL=n    INTERNACIONAL=i   SALIR=x   \")\r\n",
        "tipo= str (input(\"Ingrese el tipo de llamada a realizar\\n\"))\r\n",
        "dur= int (input(\"Indique la duracion de la llamada\\n\"))\r\n",
        "while ((tipo!=\"x\") and (dur!=-1)):\r\n",
        "  if (tipo==\"n\"):\r\n",
        "    if (dur>3):\r\n",
        "      costo=1.20+(dur-3)*0.48\r\n",
        "    else:\r\n",
        "      costo=1.20\r\n",
        "    \r\n",
        "  elif (tipo==\"l\"):\r\n",
        "    cl=cl+1\r\n",
        "    if (cl>50):\r\n",
        "      costo=.60\r\n",
        "    else:\r\n",
        "      costo= 0\r\n",
        "    \r\n",
        "  elif (tipo==\"i\"):\r\n",
        "    if (dur>3):\r\n",
        "      costo=7.59+(dur-3)*3.03\r\n",
        "    else:\r\n",
        "      costo=7.59\r\n",
        "\r\n",
        "  cuenta=cuenta+costo\r\n",
        "  tipo= str (input(\"Ingrese el tipo de llamada a realizar\\n\"))\r\n",
        "  dur= int (input(\"Indique la duracion de la llamada\\n\"))\r\n",
        "\r\n",
        "print(f\"El total a pagar es ${cuenta}\")"
      ],
      "execution_count": 41,
      "outputs": [
        {
          "output_type": "stream",
          "text": [
            "TIPOS DE LLAMADAS\n",
            "LOCAL=l   NACIONAL=n    INTERNACIONAL=i   SALIR=x   \n",
            "Ingrese el tipo de llamada a realizar\n",
            "n\n",
            "Indique la duracion de la llamada\n",
            "6\n",
            "Ingrese el tipo de llamada a realizar\n",
            "n\n",
            "Indique la duracion de la llamada\n",
            "12\n",
            "Ingrese el tipo de llamada a realizar\n",
            "l\n",
            "Indique la duracion de la llamada\n",
            "5\n",
            "Ingrese el tipo de llamada a realizar\n",
            "l\n",
            "Indique la duracion de la llamada\n",
            "7\n",
            "Ingrese el tipo de llamada a realizar\n",
            "l\n",
            "Indique la duracion de la llamada\n",
            "15\n",
            "Ingrese el tipo de llamada a realizar\n",
            "n\n",
            "Indique la duracion de la llamada\n",
            "16\n",
            "Ingrese el tipo de llamada a realizar\n",
            "l\n",
            "Indique la duracion de la llamada\n",
            "7\n",
            "Ingrese el tipo de llamada a realizar\n",
            "l\n",
            "Indique la duracion de la llamada\n",
            "6\n",
            "Ingrese el tipo de llamada a realizar\n",
            "l\n",
            "Indique la duracion de la llamada\n",
            "4\n",
            "Ingrese el tipo de llamada a realizar\n",
            "i\n",
            "Indique la duracion de la llamada\n",
            "11\n",
            "Ingrese el tipo de llamada a realizar\n",
            "x\n",
            "Indique la duracion de la llamada\n",
            "-1\n",
            "El total a pagar es $47.43\n"
          ],
          "name": "stdout"
        }
      ]
    },
    {
      "cell_type": "code",
      "metadata": {
        "colab": {
          "base_uri": "https://localhost:8080/"
        },
        "id": "IYCmjLfjasUo",
        "outputId": "cff916e8-39cb-4699-f3a3-91bd5d751bc0"
      },
      "source": [
        "#Problema 3.16 PAG 161\r\n",
        "tipo1=0\r\n",
        "tipo2=0\r\n",
        "tipo3=0\r\n",
        "tipo4=0\r\n",
        "tipo5=0\r\n",
        "mctipo2=0\r\n",
        "\r\n",
        "n= int (input(\"Ingrese el numero de años ha calcular\"))\r\n",
        "i=1\r\n",
        "for i in range (n):\r\n",
        "  j=1\r\n",
        "  totvin=0\r\n",
        "  for j in range (5):\r\n",
        "    v= float (input(f\"Cantidad de litros del vino {j+11} \"))\r\n",
        "    totvin=totvin+v\r\n",
        "    if (j==1):\r\n",
        "      tipo1=tipo1+v\r\n",
        "\r\n",
        "    elif (j==2):\r\n",
        "      tipo2=tipo2+v\r\n",
        "      if (v >mctipo2):\r\n",
        "        mctipo2=v\r\n",
        "        año=i\r\n",
        "        \r\n",
        "    elif (j==3):\r\n",
        "      tipo3=tipo3+v\r\n",
        "      if (v==0):\r\n",
        "        print(f\"En el año {i+1} no se produjo vino tipo 3 \")\r\n",
        "    \r\n",
        "    elif (j==4):\r\n",
        "      tipo4=tipo4+v\r\n",
        "    \r\n",
        "    elif (j==5):\r\n",
        "      tipo5=tipo5+v\r\n",
        "\r\n",
        "  j=j+1\r\n",
        "\r\n",
        "print(f\"Total tipo 1:{tipo1} \")\r\n",
        "print(f\"Total tipo 2:{tipo2} \")\r\n",
        "print(f\"Total tipo 3:{tipo3} \")\r\n",
        "print(f\"Total tipo 4:{tipo4} \")\r\n",
        "print(f\"Total tipo 5:{tipo5} \")\r\n",
        "print(f\"Año en que se produjo mayor cantidad de vino tipo 2: {año}\\n Litros: {mctipo2} L.\")"
      ],
      "execution_count": 43,
      "outputs": [
        {
          "output_type": "stream",
          "text": [
            "Ingrese el numero de años ha calcular1\n",
            "Cantidad de litros del vino 11 10\n",
            "Cantidad de litros del vino 12 2\n",
            "Cantidad de litros del vino 13 20\n",
            "Cantidad de litros del vino 14 40\n",
            "Cantidad de litros del vino 15 50\n",
            "Total tipo 1:2.0 \n",
            "Total tipo 2:20.0 \n",
            "Total tipo 3:40.0 \n",
            "Total tipo 4:50.0 \n",
            "Total tipo 5:0 \n",
            "Año en que se produjo mayor cantidad de vino tipo 2: 0\n",
            " Litros: 20.0 L.\n"
          ],
          "name": "stdout"
        }
      ]
    },
    {
      "cell_type": "code",
      "metadata": {
        "colab": {
          "base_uri": "https://localhost:8080/"
        },
        "id": "lsACMi4bbQih",
        "outputId": "7a1250b8-6f2f-4f84-a3ae-bfcaed7786a5"
      },
      "source": [
        "#Problema 3.17\r\n",
        "I = 3\r\n",
        "SP = 0\r\n",
        "M = int (input(\"Digite el número límite: \"))\r\n",
        "if M >= 1:\r\n",
        "  SP = SP + 1\r\n",
        "  print(\"Número primo\",1)\r\n",
        "if M >= 2:\r\n",
        "  SP = SP + 1\r\n",
        "  print(\"Número primo\",2)\r\n",
        "while I <= M:\r\n",
        "\r\n",
        "\r\n",
        "\r\n",
        "  print(\"Número primo\",I)\r\n",
        "  SP = SP +1\r\n",
        "  I = I + 2\r\n",
        "print(f\"ENTRE 1 y {M} hay {SP} NUMEROS PRIMOS\")"
      ],
      "execution_count": 44,
      "outputs": [
        {
          "output_type": "stream",
          "text": [
            "Digite el número límite: 3\n",
            "Número primo 1\n",
            "Número primo 2\n",
            "Número primo 3\n",
            "ENTRE 1 y 3 hay 3 NUMEROS PRIMOS\n"
          ],
          "name": "stdout"
        }
      ]
    },
    {
      "cell_type": "code",
      "metadata": {
        "colab": {
          "base_uri": "https://localhost:8080/"
        },
        "id": "FbsEhmELcMX1",
        "outputId": "cbcff490-c341-41a4-a893-6bcff8cf8933"
      },
      "source": [
        "#Problema 3.19\r\n",
        "numero = int (input(\"Numero:\"))\r\n",
        "print(\"El numero 1 es un numero perfecto\")\r\n",
        "for i in range(1, numero) :\r\n",
        "  cont = 0\r\n",
        "  j = 1\r\n",
        "  while j <= int (i/2) :\r\n",
        "    if i%j == 0 :\r\n",
        "      cont += j\r\n",
        "    j += 1\r\n",
        "  if cont == i :\r\n",
        "    print(f\"El numero {i} es un numero perfecto\") "
      ],
      "execution_count": 45,
      "outputs": [
        {
          "output_type": "stream",
          "text": [
            "Numero:7\n",
            "El numero 1 es un numero perfecto\n",
            "El numero 6 es un numero perfecto\n"
          ],
          "name": "stdout"
        }
      ]
    }
  ]
}