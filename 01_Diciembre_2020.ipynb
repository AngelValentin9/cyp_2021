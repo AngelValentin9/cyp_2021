{
  "nbformat": 4,
  "nbformat_minor": 0,
  "metadata": {
    "colab": {
      "name": "01_Diciembre_2020.ipynb",
      "provenance": [],
      "authorship_tag": "ABX9TyOVVKvJKK9nOB32l038sGef",
      "include_colab_link": true
    },
    "kernelspec": {
      "name": "python3",
      "display_name": "Python 3"
    }
  },
  "cells": [
    {
      "cell_type": "markdown",
      "metadata": {
        "id": "view-in-github",
        "colab_type": "text"
      },
      "source": [
        "<a href=\"https://colab.research.google.com/github/AngelValentin9/cyp_2021/blob/main/01_Diciembre_2020.ipynb\" target=\"_parent\"><img src=\"https://colab.research.google.com/assets/colab-badge.svg\" alt=\"Open In Colab\"/></a>"
      ]
    },
    {
      "cell_type": "code",
      "metadata": {
        "colab": {
          "base_uri": "https://localhost:8080/"
        },
        "id": "tOhZjdbITIiG",
        "outputId": "b8b04f0e-7773-4bc4-aeac-5c294254e1a5"
      },
      "source": [
        "#Ejemplo 1\n",
        "#Pedir 3 números enteros y mostrar el mayor de los tres\n",
        "numero1 =int (input(\"Introduce el primer numero:\"))\n",
        "numero2 =int (input(\"Introduce el segundo numero:\"))\n",
        "numero3 =int (input(\"Introduce el tercer numero:\"))\n",
        "\n",
        "if numero1 >= numero2 and numero1>=numero3:\n",
        "    print(numero1, \"es el mayor\")\n",
        "\n",
        "elif numero2>= numero1 and numero2 >=numero3:\n",
        "  print(numero2,\"es el mayor\")"
      ],
      "execution_count": 6,
      "outputs": [
        {
          "output_type": "stream",
          "text": [
            "Introduce el primer numero:9\n",
            "Introduce el segundo numero:3\n",
            "Introduce el tercer numero:4\n",
            "9 es el mayor\n"
          ],
          "name": "stdout"
        }
      ]
    },
    {
      "cell_type": "code",
      "metadata": {
        "colab": {
          "base_uri": "https://localhost:8080/"
        },
        "id": "L2daDrW1VYq7",
        "outputId": "a1dd59a2-2fc6-4f9d-bec3-0ef84b0ac0b7"
      },
      "source": [
        "#Ejemplo 2\n",
        "print(\"Ingrese el nombre del trabajador\")\n",
        "nombre=str (input())\n",
        "print(\"¿Cuantas horas trabajo esta semana?\",nombre,\":\" )\n",
        "horas=int (input())\n",
        "print(\"¿Cuanto se le paga por hora?:\")\n",
        "sueldoH= float (input())\n",
        "\n",
        "#Evaluar su sueldo\n",
        "\n",
        "if (horas<=40):\n",
        "  pago = horas*sueldoH\n",
        "  print(nombre,\"Su pago total es de $\",pago)\n",
        "\n",
        "else:\n",
        "  extras = horas - 40\n",
        "  pago = 40*sueldoH\n",
        "  pagoFinal = pago + ((extras * sueldoH)*2)\n",
        "  print(nombre,\"Su pago total es de $\",pagoFinal)"
      ],
      "execution_count": 13,
      "outputs": [
        {
          "output_type": "stream",
          "text": [
            "Ingrese el nombre del trabajador\n",
            "lucy\n",
            "¿Cuantas horas trabajo esta semana? lucy :\n",
            "45\n",
            "¿Cuanto se le paga por hora?:\n",
            "10\n",
            "lucy Su pago total es de $ 500.0\n"
          ],
          "name": "stdout"
        }
      ]
    },
    {
      "cell_type": "code",
      "metadata": {
        "colab": {
          "base_uri": "https://localhost:8080/"
        },
        "id": "juf0EPNObBek",
        "outputId": "7bcfde3c-ff8d-4779-df27-eb8512b08ff5"
      },
      "source": [
        "#Ejemplo 3\n",
        "\n",
        "print(\"Ingrese el nombre del trabajador\")\n",
        "nombre=str (input())\n",
        "print(\"¿Cuantas horas trabajo esta semana?\",nombre,\":\" )\n",
        "horas=int (input())\n",
        "print(\"¿Cuanto se le paga por hora?:\")\n",
        "sueldoH= float (input())\n",
        "\n",
        "#Evaluar el sueldo\n",
        "\n",
        "if (horas<=40):\n",
        "  pago=horas*sueldoH\n",
        "  print(nombre, \"su sueldo final es de $\",pago,\"\\n\")\n",
        "\n",
        "elif ((horas>=40)and(horas<=50)):\n",
        "  extrasDobles = horas-40\n",
        "  print(\"Horas extras dobles:\",extrasDobles)\n",
        "  pago=40*sueldoH\n",
        "  print(\"Sueldo base: $\",pago)\n",
        "  pagoDoble=extrasDobles*(sueldoH*2)\n",
        "  print(\"Pago de horas dobles: $\",pagoDoble)\n",
        "  pagoFinal=pagoDoble+pago\n",
        "  print(nombre, \",su sueldo total es de $\",pagoFinal)\n",
        "\n",
        "elif (horas >50 and horas <=60):\n",
        "  extrasTriples=horas-50\n",
        "  print (\"Horas extra dobles : 10\")\n",
        "  print(\"horas extra triples: \", extrasTriples)\n",
        "  pago=40*sueldoH\n",
        "  print(\"sueldo base:$\", pago)\n",
        "  pagoDoble=10*sueldoH*2\n",
        "  print(\"pago de horas extras dobles: \", pagoDoble)\n",
        "  pagoTriple=extrasTriples *sueldoH*3\n",
        "  print(\"pago de horas extra triples:\", pagoTriple)\n",
        "  pagoFinal= pago+pagoDoble+pagoTriple\n",
        "  print(nombre, \",su sueldo total es de $\",pagoFinal)\n",
        "\n",
        "else:\n",
        "  extrasTriples=10\n",
        "  print(\"Horas extra dobles 10\")\n",
        "  print(\"Horas extra triple 10\")\n",
        "  pago = 40*sueldoH\n",
        "  print(\"Sueldo Base:$\", pago)\n",
        "  pagoDoble=10*sueldoH*2\n",
        "  print(\"Pago de horas extra Doble:\", pagoDoble)\n",
        "  pagoTriple=extrasTriples * sueldoH*3\n",
        "  print(\"pago de horas extra triples:\", pagoTriple)\n",
        "  print(\"Incentivo por trabajar más de 60 horas: $2000\" )\n",
        "  pagoFinal= pago+pagoDoble+pagoTriple+2000\n",
        "  print(nombre, \",su sueldo total es de $\",pagoFinal)"
      ],
      "execution_count": 28,
      "outputs": [
        {
          "output_type": "stream",
          "text": [
            "Ingrese el nombre del trabajador\n",
            "Zet\n",
            "¿Cuantas horas trabajo esta semana? Zet :\n",
            "51\n",
            "¿Cuanto se le paga por hora?:\n",
            "100\n",
            "Horas extra dobles : 10\n",
            "horas extra triples:  1\n",
            "sueldo base:$ 4000.0\n",
            "pago de horas extras dobles:  2000.0\n",
            "pago de horas extra triples: 300.0\n",
            "Zet ,su sueldo total es de $ 6300.0\n"
          ],
          "name": "stdout"
        }
      ]
    },
    {
      "cell_type": "code",
      "metadata": {
        "colab": {
          "base_uri": "https://localhost:8080/"
        },
        "id": "CkX2mFEjcAzF",
        "outputId": "740277c9-434b-4ab2-ad8c-e67f7b49be4d"
      },
      "source": [
        "#Estructura FOR\n",
        "#Ejemplo1\n",
        "\n",
        "for estaciones_año in[\"Primavera\",\"Verano\",\"Otoño\",\"Invierno\",\"Venus\"]: #In es una palabra reservada, elemento a recorrer\n",
        "\n",
        "  print(estaciones_año)\n",
        "\n",
        "#Variables que suelen forma parte de FOR son \"i\""
      ],
      "execution_count": 32,
      "outputs": [
        {
          "output_type": "stream",
          "text": [
            "Primavera\n",
            "Verano\n",
            "Otoño\n",
            "Invierno\n"
          ],
          "name": "stdout"
        }
      ]
    },
    {
      "cell_type": "code",
      "metadata": {
        "id": "xfc282dcaFJW"
      },
      "source": [
        ""
      ],
      "execution_count": null,
      "outputs": []
    }
  ]
}