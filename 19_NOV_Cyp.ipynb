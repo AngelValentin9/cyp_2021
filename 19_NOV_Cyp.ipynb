{
  "nbformat": 4,
  "nbformat_minor": 0,
  "metadata": {
    "colab": {
      "name": "19_NOV_Cyp.ipynb",
      "provenance": [],
      "authorship_tag": "ABX9TyOUUsnTXHBoldD7AzDCCtU4",
      "include_colab_link": true
    },
    "kernelspec": {
      "name": "python3",
      "display_name": "Python 3"
    }
  },
  "cells": [
    {
      "cell_type": "markdown",
      "metadata": {
        "id": "view-in-github",
        "colab_type": "text"
      },
      "source": [
        "<a href=\"https://colab.research.google.com/github/AngelValentin9/cyp_2021/blob/main/19_NOV_Cyp.ipynb\" target=\"_parent\"><img src=\"https://colab.research.google.com/assets/colab-badge.svg\" alt=\"Open In Colab\"/></a>"
      ]
    },
    {
      "cell_type": "code",
      "metadata": {
        "colab": {
          "base_uri": "https://localhost:8080/"
        },
        "id": "FoWha93qhBJB",
        "outputId": "74469245-62da-4ff5-ac97-23651ddf18f8"
      },
      "source": [
        "I = 0\n",
        "I = I + 1\n",
        "I= I + 1\n",
        "\n",
        "print(f\"I = {I}\")\n",
        "J = 5 ** 2 / 3\n",
        "print(f\"J = { J }\")"
      ],
      "execution_count": 6,
      "outputs": [
        {
          "output_type": "stream",
          "text": [
            "I = 2\n",
            "J = 8.333333333333334\n"
          ],
          "name": "stdout"
        }
      ]
    },
    {
      "cell_type": "code",
      "metadata": {
        "colab": {
          "base_uri": "https://localhost:8080/"
        },
        "id": "wqptaMBenPLk",
        "outputId": "fe743d5d-0b38-4451-c9e8-51fc4a2c7bfa"
      },
      "source": [
        "#Declaración de variables (reservando memoria)\n",
        "A = 0\n",
        "B = 0\n",
        "C = 0\n",
        "D = 0\n",
        "\n",
        "A = int(input (\"Dame un valor entero: \"))\n",
        "B = int(input (\"Dame un valor entero: \"))\n",
        "C = int(input (\"Dame un valor entero: \"))\n",
        "D = int(input (\"Dame un valor entero: \"))\n",
        "\n",
        "print(D)\n",
        "print(C)\n",
        "print(B)\n",
        "print(A)"
      ],
      "execution_count": 2,
      "outputs": [
        {
          "output_type": "stream",
          "text": [
            "Dame un valor entero: 10\n",
            "Dame un valor entero: 20\n",
            "Dame un valor entero: 30\n",
            "Dame un valor entero: 40\n",
            "40\n",
            "30\n",
            "20\n",
            "10\n"
          ],
          "name": "stdout"
        }
      ]
    },
    {
      "cell_type": "code",
      "metadata": {
        "colab": {
          "base_uri": "https://localhost:8080/"
        },
        "id": "Avz53pX8pOaN",
        "outputId": "78f4b4af-db2f-4734-d69e-0e13cbbe3052"
      },
      "source": [
        "#Ejemplo1.7\n",
        "A = 0 \n",
        "B = 0 \n",
        "RES = 0\n",
        "A= int ( input(\" Dame un entero:\") )\n",
        "B= int ( input(\" Dame otro entero:\") )\n",
        "RES = (A + B)** 2/3\n",
        "print(RES)"
      ],
      "execution_count": 14,
      "outputs": [
        {
          "output_type": "stream",
          "text": [
            " Dame un entero:14\n",
            " Dame otro entero:-5\n",
            "27.0\n"
          ],
          "name": "stdout"
        }
      ]
    },
    {
      "cell_type": "code",
      "metadata": {
        "colab": {
          "base_uri": "https://localhost:8080/"
        },
        "id": "M5pFDxg8uMSd",
        "outputId": "5e976ae5-b6c6-4542-a64f-bb9b3f01ec91"
      },
      "source": [
        "#Ejemplo1.8\n",
        "CAL1=0\n",
        "CAL2=0\n",
        "CAL3=0\n",
        "CAL4=0\n",
        "CAL5=0\n",
        "PRO = 0.0\n",
        "MAT = int (input(\"Dame la matrícula:\"))\n",
        "\n",
        "CAL1= float(input(\"Dame la calificación 1:\"))\n",
        "CAL2=float(input(\"Dame la calificación 2:\"))\n",
        "CAL3=float(input(\"Dame la calificación 3:\"))\n",
        "CAL4=float(input(\"Dame la calificación 4:\"))\n",
        "CAL5=float(input(\"Dame la calificación 5:\"))\n",
        "PRO = (CAL1+CAL2+CAL3+CAL4+CAL5) /5\n",
        "print (MAT , PRO)"
      ],
      "execution_count": 21,
      "outputs": [
        {
          "output_type": "stream",
          "text": [
            "Dame la matrícula:16500\n",
            "Dame la calificación 1:8\n",
            "Dame la calificación 2:8.5\n",
            "Dame la calificación 3:9\n",
            "Dame la calificación 4:7\n",
            "Dame la calificación 5:6\n",
            "16500 7.7\n"
          ],
          "name": "stdout"
        }
      ]
    },
    {
      "cell_type": "code",
      "metadata": {
        "colab": {
          "base_uri": "https://localhost:8080/"
        },
        "id": "TCEzWvEYxqmr",
        "outputId": "6795083d-fa58-43d3-af22-db6997e0f460"
      },
      "source": [
        "#Ejemplo1.9\n",
        "NUM = 0\n",
        "CUA = 0\n",
        "CUB = 0\n",
        "\n",
        "NUM = int(input(\"Dame un numero entero: \"))\n",
        "\n",
        "CUA = NUM ** 2\n",
        "CUB = NUM ** 3\n",
        "\n",
        "print(\"El cuadrado de \", NUM, \" es \", CUA, \" y su cubo es \", CUB)"
      ],
      "execution_count": 22,
      "outputs": [
        {
          "output_type": "stream",
          "text": [
            "Dame un numero entero: 7\n",
            "El cuadrado de  7  es  49  y su cubo es  343\n"
          ],
          "name": "stdout"
        }
      ]
    },
    {
      "cell_type": "code",
      "metadata": {
        "colab": {
          "base_uri": "https://localhost:8080/"
        },
        "id": "ku0TSNl8zULY",
        "outputId": "54ee6d11-4945-40a2-848b-ae4e1f8160dc"
      },
      "source": [
        "#Ejemplo1.10\n",
        "\n",
        "base=0\n",
        "altura=0\n",
        "area=0\n",
        "per=0\n",
        "\n",
        "base=float(input(\"Ingresa la base\"))\n",
        "altura=float(input(\"Ingresa la altura\"))\n",
        "area=(base*altura)\n",
        "per=( base + altura ) *2\n",
        "\n",
        "print(f\"el área es {area}\")\n",
        "print(f\"el perímetro es {per}\")"
      ],
      "execution_count": 23,
      "outputs": [
        {
          "output_type": "stream",
          "text": [
            "Ingresa la base10\n",
            "Ingresa la altura5\n",
            "el área es 50.0\n",
            "el perímetro es 30.0\n"
          ],
          "name": "stdout"
        }
      ]
    }
  ]
}