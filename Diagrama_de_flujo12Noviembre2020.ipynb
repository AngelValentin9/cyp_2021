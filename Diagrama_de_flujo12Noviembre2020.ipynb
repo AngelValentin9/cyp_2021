{
  "nbformat": 4,
  "nbformat_minor": 0,
  "metadata": {
    "colab": {
      "name": "Diagrama de flujo12Noviembre2020",
      "provenance": [],
      "collapsed_sections": [],
      "authorship_tag": "ABX9TyMhJ3BC2X2vt36YKnozcABT",
      "include_colab_link": true
    },
    "kernelspec": {
      "name": "python3",
      "display_name": "Python 3"
    }
  },
  "cells": [
    {
      "cell_type": "markdown",
      "metadata": {
        "id": "view-in-github",
        "colab_type": "text"
      },
      "source": [
        "<a href=\"https://colab.research.google.com/github/AngelValentin9/cyp_2021/blob/main/Diagrama_de_flujo12Noviembre2020.ipynb\" target=\"_parent\"><img src=\"https://colab.research.google.com/assets/colab-badge.svg\" alt=\"Open In Colab\"/></a>"
      ]
    },
    {
      "cell_type": "code",
      "metadata": {
        "id": "HgLWNNacejKa",
        "outputId": "93f2dd0b-092f-4d21-b3dc-8a2426e90c94",
        "colab": {
          "base_uri": "https://localhost:8080/"
        }
      },
      "source": [
        "numero=int (input(\"Dame un numero\"))\n",
        "if numero >0:\n",
        "  print(\"El numero es positivo\")\n",
        "  \n",
        "print( \"Fin de del programa\")"
      ],
      "execution_count": null,
      "outputs": [
        {
          "output_type": "stream",
          "text": [
            "Dame un numero3\n",
            "El numero es positivo\n",
            "Fin de del programa\n"
          ],
          "name": "stdout"
        }
      ]
    },
    {
      "cell_type": "code",
      "metadata": {
        "id": "J3s5h52tfLOI",
        "outputId": "a86d7f2e-fad7-4028-f657-15a9f0aa5e53",
        "colab": {
          "base_uri": "https://localhost:8080/"
        }
      },
      "source": [
        "#ejemplo 2\n",
        "numero= int(input(\"digite un número\"))\n",
        "if numero>0:\n",
        "  print(\"el numero es positivo\")\n",
        "else:#si no imprime no imprime\n",
        "    print(\"el numero es negativo\")\n"
      ],
      "execution_count": null,
      "outputs": [
        {
          "output_type": "stream",
          "text": [
            "digite un número3\n",
            "el numero es positivo\n"
          ],
          "name": "stdout"
        }
      ]
    },
    {
      "cell_type": "code",
      "metadata": {
        "id": "YIzeLDi-g6Tx",
        "outputId": "fcda6849-522f-49ed-91a6-56441e2e50ae",
        "colab": {
          "base_uri": "https://localhost:8080/"
        }
      },
      "source": [
        "#Ejemplo 3\n",
        "numero= int (input(\"Digite un numero\"))\n",
        "if numero>0:\n",
        "  print(\"El numero es positivo\")\n",
        "elif numero==0:\n",
        "  print(\"El numero es cero\")\n",
        "\n",
        "else:#sino imprime negativo\n",
        "  print(\"El numero es negativo\")\n",
        "\n",
        "print(\"Fin del programa\")\n"
      ],
      "execution_count": null,
      "outputs": [
        {
          "output_type": "stream",
          "text": [
            "Digite un numero0\n",
            "El numero es cero\n",
            "Hasta la vista beibi\n"
          ],
          "name": "stdout"
        }
      ]
    }
  ]
}