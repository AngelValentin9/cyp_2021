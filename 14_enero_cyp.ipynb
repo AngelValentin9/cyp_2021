{
  "nbformat": 4,
  "nbformat_minor": 0,
  "metadata": {
    "colab": {
      "name": "14_enero_cyp.ipynb",
      "provenance": [],
      "authorship_tag": "ABX9TyMwHEjw0lJf2xYprx2R8qKW",
      "include_colab_link": true
    },
    "kernelspec": {
      "name": "python3",
      "display_name": "Python 3"
    }
  },
  "cells": [
    {
      "cell_type": "markdown",
      "metadata": {
        "id": "view-in-github",
        "colab_type": "text"
      },
      "source": [
        "<a href=\"https://colab.research.google.com/github/AngelValentin9/cyp_2021/blob/main/14_enero_cyp.ipynb\" target=\"_parent\"><img src=\"https://colab.research.google.com/assets/colab-badge.svg\" alt=\"Open In Colab\"/></a>"
      ]
    },
    {
      "cell_type": "markdown",
      "metadata": {
        "id": "KzbX202a5eP-"
      },
      "source": [
        "#Palabras reservadas de phyton 3\r\n",
        "\r\n",
        "33\r\n",
        "1. False\r\n",
        "1. None\r\n",
        "1. True\r\n",
        "1. and\r\n",
        "1. as\r\n",
        "1. assert\r\n",
        "1. break\r\n",
        "1. class\r\n",
        "1. continue\r\n",
        "1. def\r\n",
        "1. del\r\n",
        "1. elif\r\n",
        "1. else\r\n",
        "1. except\r\n",
        "1. finally\r\n",
        "1. for\r\n",
        "1. from\r\n",
        "1. global\r\n",
        "1. if\r\n",
        "1. import\r\n",
        "1. in\r\n",
        "1. is\r\n",
        "1. lambda\r\n",
        "1. nonlocal\r\n",
        "1. not\r\n",
        "1. or\r\n",
        "1. pass\r\n",
        "1. raise\r\n",
        "1. return\r\n",
        "1. try\r\n",
        "1. while\r\n",
        "1. with\r\n",
        "1. yield"
      ]
    },
    {
      "cell_type": "code",
      "metadata": {
        "colab": {
          "base_uri": "https://localhost:8080/"
        },
        "id": "vnlwJYt35iQJ",
        "outputId": "42806c8b-0a56-4d4c-fd61-bcf4b414189f"
      },
      "source": [
        "import keyword\r\n",
        "pr = keyword.kwlist\r\n",
        "print( len(pr))\r\n",
        "for palabra in pr:\r\n",
        "  print(\"1.\", palabra )"
      ],
      "execution_count": 6,
      "outputs": [
        {
          "output_type": "stream",
          "text": [
            "33\n",
            "1. False\n",
            "1. None\n",
            "1. True\n",
            "1. and\n",
            "1. as\n",
            "1. assert\n",
            "1. break\n",
            "1. class\n",
            "1. continue\n",
            "1. def\n",
            "1. del\n",
            "1. elif\n",
            "1. else\n",
            "1. except\n",
            "1. finally\n",
            "1. for\n",
            "1. from\n",
            "1. global\n",
            "1. if\n",
            "1. import\n",
            "1. in\n",
            "1. is\n",
            "1. lambda\n",
            "1. nonlocal\n",
            "1. not\n",
            "1. or\n",
            "1. pass\n",
            "1. raise\n",
            "1. return\n",
            "1. try\n",
            "1. while\n",
            "1. with\n",
            "1. yield\n"
          ],
          "name": "stdout"
        }
      ]
    },
    {
      "cell_type": "markdown",
      "metadata": {
        "id": "v8A4o1el7EPq"
      },
      "source": [
        "##Variable\r\n",
        "Es un espacio de memoria de la computadora para almacenar valores que cambian a lo largo de la ejeción del programa. Este espacio de memoria esta referenciado por un identificardor el cual tienen ciertas reglas de nombrado.\r\n",
        "- No puede iniciar con número \r\n",
        "- No debe ser igual a alguna de la palabras reservadas.\r\n",
        "- Evitar nombre de variables largos.\r\n",
        "- Evitar muy cortos, ejemplo : x,y,i\r\n",
        "- Usar notación snake_case\r\n"
      ]
    },
    {
      "cell_type": "code",
      "metadata": {
        "colab": {
          "base_uri": "https://localhost:8080/",
          "height": 69
        },
        "id": "mosewg4_7sYU",
        "outputId": "fa5679e9-ab4b-4dc8-f7a7-9960307ce793"
      },
      "source": [
        "_2edad= 12\r\n",
        "print(_2edad)\r\n",
        "\r\n",
        "\"\"\"\r\n",
        "No se puede usar una palabra reservada como indetificador de variable:\r\n",
        "\r\n",
        "for = 12\r\n",
        "print(for)\r\n",
        "\r\n",
        "\"\"\"\r\n",
        "\r\n",
        "_2edad\r\n",
        "dias_de_la_semana=7"
      ],
      "execution_count": 11,
      "outputs": [
        {
          "output_type": "stream",
          "text": [
            "12\n"
          ],
          "name": "stdout"
        },
        {
          "output_type": "execute_result",
          "data": {
            "application/vnd.google.colaboratory.intrinsic+json": {
              "type": "string"
            },
            "text/plain": [
              "'\\nNo se puede usar una palabra reservada como indetificador de variable:\\n\\nfor = 12\\nprint(for)\\n\\n'"
            ]
          },
          "metadata": {
            "tags": []
          },
          "execution_count": 11
        }
      ]
    },
    {
      "cell_type": "code",
      "metadata": {
        "id": "aZpPdxU89FdJ"
      },
      "source": [
        "\"\"\"\r\n",
        "La notación snake case consta de formar el identificador de variable separando las palabras del mismo con un guión bajo.\r\n",
        "\r\n",
        "Se recomienda que los identificadores se escriban en minusculas para las variables y en mayúsculaspara las contantes.\r\n",
        "\r\n",
        "Es decir si tenemos una variable para los días de la semana, se escribiría así:\r\n",
        "\r\n",
        "Días_de_la_semana = 7\r\n",
        "días_mes = 31\r\n",
        "llimite_maximo = 100"
      ],
      "execution_count": null,
      "outputs": []
    },
    {
      "cell_type": "markdown",
      "metadata": {
        "id": "3FzQ4uQe94-F"
      },
      "source": [
        "#Tipos de datos\r\n",
        "- Númericos \r\n",
        "  - Int 4 bytes (1,2 23454, etc.)\r\n",
        "  - Float 4 bytes (1.14 , 3.1416 , 1.0)\r\n",
        "  - Long 8 bytes (1, 2,23454, etc)\r\n",
        "  - Complex 3+2j ( raices negativas )\r\n",
        "- Boolean: True o False\r\n",
        "-String cadenas de carácteres (\"Cad\" ,\r\n",
        "'cad' o \"\"\"cad\"\"\" )\r\n",
        "- Listas ( [1,2,3,4) , (a,b,1,2,3] )\r\n",
        "- Tuplas (  (edad,23) , (3,4) )\r\n",
        "- Conjuntos\r\n",
        "- Diccionarios ( {\"nombre\":\"Juan\"} )"
      ]
    },
    {
      "cell_type": "markdown",
      "metadata": {
        "id": "lmLjKb_fEL_F"
      },
      "source": [
        "#Tipo de dato String\r\n",
        "\r\n",
        "Este tipo de dato permite almacenar cadenas de caracteres, como por ejemplo:\r\n",
        "\r\n",
        "nombre = 'Jesus'\r\n",
        "lugar_nacimiento = \"México D.F., Tacuba\"\r\n",
        "frase_favorita =\"\"\"\r\n",
        "El conocimiento \r\n",
        "me persigue,\r\n",
        "pero...\r\n",
        "Yo soy más rápido!!!\r\n",
        ":)\r\n",
        "\"\"\""
      ]
    },
    {
      "cell_type": "code",
      "metadata": {
        "colab": {
          "base_uri": "https://localhost:8080/"
        },
        "id": "CUoxqI2cFItQ",
        "outputId": "f7f0db87-8e28-4491-d156-e4fea8702d5d"
      },
      "source": [
        "nombre = 'Jesus'\r\n",
        "lugar_nacimiento = \"México D.F., Tacuba\"\r\n",
        "frase_favorita =\"\"\"\r\n",
        "El conocimiento \r\n",
        "me persigue,\r\n",
        "pero...\r\n",
        "Yo soy más rápido!!!\r\n",
        ":)\r\n",
        "\"\"\"\r\n",
        "\r\n",
        "print(nombre)\r\n",
        "print(lugar_nacimiento)\r\n",
        "print(frase_favorita)"
      ],
      "execution_count": 12,
      "outputs": [
        {
          "output_type": "stream",
          "text": [
            "Jesus\n",
            "México D.F., Tacuba\n",
            "\n",
            "El conocimiento \n",
            "me persigue,\n",
            "pero...\n",
            "Yo soy más rápido!!!\n",
            ":)\n",
            "\n"
          ],
          "name": "stdout"
        }
      ]
    },
    {
      "cell_type": "markdown",
      "metadata": {
        "id": "zJoLmL8BFlSt"
      },
      "source": [
        "#Strings como arreglo\r\n",
        "Un string en phyton es almacenado como el tipo de dato (estrutura de datos) arreglo.\r\n",
        "\r\n",
        "Por ejemplo la declaración:\r\n",
        "\r\n",
        "```\r\n",
        "nombre = 'Jesús'\r\n",
        "```\r\n",
        "El elemento 'J es almacenado en un arreglo en la posición 0.\r\n",
        "La 'e' en la  1 y así sucesivamente.\r\n",
        "\r\n",
        "###Selector \r\n",
        "La notación para seleccionar un elemento del arreglo es:\r\n",
        "```\r\n",
        "[ 1 ]\r\n",
        "\r\n",
        "```\r\n",
        "Donde el valor interno debe ser un valor numérico entero."
      ]
    },
    {
      "cell_type": "code",
      "metadata": {
        "colab": {
          "base_uri": "https://localhost:8080/"
        },
        "id": "DEp_zPmCGSw1",
        "outputId": "1631d049-6220-48e3-f86b-5b9df0382bcb"
      },
      "source": [
        "nombre = 'Jesús'\r\n",
        "print(len(nombre))\r\n",
        "print(nombre)\r\n",
        "print( nombre[0] )\r\n",
        "print( nombre[3] )"
      ],
      "execution_count": 13,
      "outputs": [
        {
          "output_type": "stream",
          "text": [
            "Jesús\n",
            "J\n",
            "ú\n"
          ],
          "name": "stdout"
        }
      ]
    },
    {
      "cell_type": "markdown",
      "metadata": {
        "id": "lEH0km6wHpFR"
      },
      "source": [
        "# Iterar sobre un string\r\n",
        "\r\n",
        "Se puede iterar sobre un string con un for de la forma:\r\n",
        "\r\n",
        "```\r\n",
        "for letra in range(len(nombre)):\r\n",
        "  print( letra )\r\n",
        "```\r\n"
      ]
    },
    {
      "cell_type": "code",
      "metadata": {
        "colab": {
          "base_uri": "https://localhost:8080/"
        },
        "id": "qF_5pBB5IdJo",
        "outputId": "9bc271a6-6bf8-4f6b-986a-72fce22ed4ca"
      },
      "source": [
        "for indice in range(len(nombre)): #0 , 1, 2, 3, 4\r\n",
        "  print( indice , end = \" \" )\r\n",
        "  print( nombre[indice] )\r\n"
      ],
      "execution_count": 19,
      "outputs": [
        {
          "output_type": "stream",
          "text": [
            "0 J\n",
            "1 e\n",
            "2 s\n",
            "3 ú\n",
            "4 s\n"
          ],
          "name": "stdout"
        }
      ]
    },
    {
      "cell_type": "markdown",
      "metadata": {
        "id": "xlZqMCRcKDU7"
      },
      "source": [
        "# Función range(inicio, stop, incremento)\r\n",
        "\r\n",
        "El inicio es opcional y por defecto tiene el valor 0\r\n",
        "El incremento también es opcional y por defecto es 1\r\n"
      ]
    },
    {
      "cell_type": "code",
      "metadata": {
        "colab": {
          "base_uri": "https://localhost:8080/"
        },
        "id": "JM4s45tgKTbI",
        "outputId": "891bf4e9-cf14-4fb9-f3dc-edc2ab74a528"
      },
      "source": [
        "for indice in range(4, -1 , -1 ):#4 , 3 , 2 , 1 , 0\r\n",
        "  print(nombre[indice])"
      ],
      "execution_count": 20,
      "outputs": [
        {
          "output_type": "stream",
          "text": [
            "s\n",
            "ú\n",
            "s\n",
            "e\n",
            "J\n"
          ],
          "name": "stdout"
        }
      ]
    },
    {
      "cell_type": "markdown",
      "metadata": {
        "id": "TWMcTDDbL6U-"
      },
      "source": [
        "#Strings e indexado negativo\r\n",
        "En phyton 3 se agrega una nueva característica a los arreglos de las cadenas de caracteres, esta consta de la campacidad de indexar de forma negativa.\r\n",
        "\r\n",
        "La lógica es la siguiente.\r\n",
        "\r\n",
        "El último elemento se le considera como indice (ALTARNATIVO) -1, con lo cual se podrpia referenciar el final de la cadena sin la necesidad de saber el tamaño de la misma.\r\n",
        "\r\n",
        "```\r\n",
        "nombre = 'Ángel'\r\n",
        "\r\n",
        "```\r\n",
        "\r\n",
        "indice normal 0   1  2  3  4\r\n",
        "\r\n",
        "              Á   n  g  e  l\r\n",
        "\r\n",
        "Indice alter. -5 -4 -3 -2 -1"
      ]
    },
    {
      "cell_type": "code",
      "metadata": {
        "colab": {
          "base_uri": "https://localhost:8080/"
        },
        "id": "YYaHVI1lMjVI",
        "outputId": "b29f3bbe-e5e3-471e-85e4-690b70219a22"
      },
      "source": [
        "nombre = \"Ángel\"\r\n",
        "print(nombre[4])\r\n",
        "print( nombre [-1] )\r\n",
        "print(\"\")\r\n",
        "for indice_alter in range(-1, -6, -1):\r\n",
        "  print( nombre [indice_alter])"
      ],
      "execution_count": 21,
      "outputs": [
        {
          "output_type": "stream",
          "text": [
            "l\n",
            "l\n",
            "\n",
            "l\n",
            "e\n",
            "g\n",
            "n\n",
            "Á\n"
          ],
          "name": "stdout"
        }
      ]
    },
    {
      "cell_type": "markdown",
      "metadata": {
        "id": "7BdDY_zkP3wj"
      },
      "source": [
        "# Slicing de cadenas de caracteres.\r\n",
        "\r\n",
        "Esta característica permite sacar secciones de una cadena con la siguiente sintaxis:\r\n",
        "```\r\n",
        "[ Inicio : stop : incremento ]\r\n",
        "```\r\n",
        "Donde inicio e incremento son opcionales y también indexado alternativo(negativos)."
      ]
    },
    {
      "cell_type": "code",
      "metadata": {
        "colab": {
          "base_uri": "https://localhost:8080/"
        },
        "id": "KzrbesW4Qk1i",
        "outputId": "f6f0ba6a-03a9-4049-ccd3-bbcfac1507ed"
      },
      "source": [
        "facultad = \"Facultad de Estudios Superiores Aragón (La mejor)\"\r\n",
        "\r\n",
        "print(facultad)\r\n",
        "for indice in range( 12, 20, 1):\r\n",
        "  print(facultad[indice] , end =\"\")\r\n",
        "\r\n",
        "#hacer esto mismo con la característica Slicing se lográ así:\r\n",
        "print(\"\\nCon Slicing\")\r\n",
        "print( facultad[12:20:1])\r\n",
        "\r\n",
        "#la palabra 'de' con Slicing\r\n",
        "print(\"\\nCon Slicing\")\r\n",
        "print(facultad[9:11:1])\r\n",
        "\r\n",
        "#La frase '(La mejor)' con indexado alternativo y slicing"
      ],
      "execution_count": 26,
      "outputs": [
        {
          "output_type": "stream",
          "text": [
            "Facultad de Estudios Superiores Aragón (La mejor)\n",
            "Estudios\n",
            "Con Slicing\n",
            "Estudios\n",
            "\n",
            "Con Slicing\n",
            "de\n"
          ],
          "name": "stdout"
        }
      ]
    }
  ]
}