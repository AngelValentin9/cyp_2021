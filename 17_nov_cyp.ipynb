{
  "nbformat": 4,
  "nbformat_minor": 0,
  "metadata": {
    "colab": {
      "name": "17_nov_cyp.ipynb",
      "provenance": [],
      "authorship_tag": "ABX9TyMn6LYLIRhLkQFR5pPs/D1D",
      "include_colab_link": true
    },
    "kernelspec": {
      "name": "python3",
      "display_name": "Python 3"
    }
  },
  "cells": [
    {
      "cell_type": "markdown",
      "metadata": {
        "id": "view-in-github",
        "colab_type": "text"
      },
      "source": [
        "<a href=\"https://colab.research.google.com/github/AngelValentin9/cyp_2021/blob/main/17_nov_cyp.ipynb\" target=\"_parent\"><img src=\"https://colab.research.google.com/assets/colab-badge.svg\" alt=\"Open In Colab\"/></a>"
      ]
    },
    {
      "cell_type": "code",
      "metadata": {
        "colab": {
          "base_uri": "https://localhost:8080/"
        },
        "id": "I69oppjASJP2",
        "outputId": "7613f4ff-a04f-4135-e676-c879d0ca751b"
      },
      "source": [
        "edad=15\n",
        "estatura=1.67\n",
        "a=10\n",
        "b=3\n",
        "\n",
        "c=2**b+2+3+4\n",
        "\n",
        "\n",
        "print(c)\n",
        "\n",
        "e=estatura*2.0\n",
        "print ( e )\n",
        "\n",
        "f=a/b #En python se hace el cálculo exacto\n",
        "print ( f ) # 3.3333\n",
        "\n",
        "#también podemos forzar al cálculo de enteros\n",
        "\n",
        "g= a // b\n",
        "print ( \"g=\" ,g)\n",
        "\n",
        "h = a%b\n",
        "print(\"h=\", h)\n",
        "\n",
        "num=11\n",
        "print(\"Es par num?\",  (num % 2) == 0)"
      ],
      "execution_count": 3,
      "outputs": [
        {
          "output_type": "stream",
          "text": [
            "17\n",
            "3.34\n",
            "3.3333333333333335\n",
            "g= 3\n",
            "h= 1\n",
            "Es par num? False\n"
          ],
          "name": "stdout"
        }
      ]
    },
    {
      "cell_type": "code",
      "metadata": {
        "colab": {
          "base_uri": "https://localhost:8080/"
        },
        "id": "fuPRSHvWXqp9",
        "outputId": "f72621ab-9c2e-4b18-ced3-a4e2ccfe47be"
      },
      "source": [
        "ecuacion = 9+7*8-36/5#   9 + 56 - 7.2 -> 65 - 7.2\n",
        "print(ecuacion)\n",
        "\n",
        "ecuacion = (9+7) * 8 - 36 / 5 # 128 - 7.2\n",
        "print(ecuacion)"
      ],
      "execution_count": 5,
      "outputs": [
        {
          "output_type": "stream",
          "text": [
            "57.8\n",
            "120.8\n"
          ],
          "name": "stdout"
        }
      ]
    },
    {
      "cell_type": "code",
      "metadata": {
        "colab": {
          "base_uri": "https://localhost:8080/"
        },
        "id": "MnXMOXYHcLS-",
        "outputId": "49d13297-01cd-4628-9f69-86a90f7354f6"
      },
      "source": [
        "#Operadores logicos\n",
        "\n",
        "valor = (5 == 4) # true\n",
        "print(valor)"
      ],
      "execution_count": 6,
      "outputs": [
        {
          "output_type": "stream",
          "text": [
            "False\n"
          ],
          "name": "stdout"
        }
      ]
    },
    {
      "cell_type": "code",
      "metadata": {
        "colab": {
          "base_uri": "https://localhost:8080/"
        },
        "id": "XlkRkAj_dEqm",
        "outputId": "783e32d9-0a8f-4229-e09d-dd7bc9e926be"
      },
      "source": [
        "#Operadores logicos --> True y False\n",
        "\n",
        "x=5\n",
        "y=4\n",
        "\n",
        "valor = (x == y) #Falso\n",
        "print(valor)\n",
        "\n",
        "valor= (x !=y) # Son diferentes?? --> verdadero\n",
        "print(valor)\n",
        "\n",
        "valor = (x < y) # x es menor que y?? false\n",
        "print(valor)\n",
        "\n",
        "valor = (x > y) # x es mayor que y?? false\n",
        "print(valor)\n",
        "\n",
        "y= 5\n",
        "valor = (x <= y) # x es menor  o igual que y?? true\n",
        "print(valor)\n",
        "\n",
        "\n",
        "valor = (x >= y) # x es mayor o igual que y?? true\n",
        "print(valor)"
      ],
      "execution_count": 11,
      "outputs": [
        {
          "output_type": "stream",
          "text": [
            "False\n",
            "True\n",
            "False\n",
            "True\n",
            "True\n",
            "True\n"
          ],
          "name": "stdout"
        }
      ]
    },
    {
      "cell_type": "code",
      "metadata": {
        "colab": {
          "base_uri": "https://localhost:8080/"
        },
        "id": "5nz85_T1fkPW",
        "outputId": "28bea2af-3875-47a1-d294-8ac5de822a98"
      },
      "source": [
        "costo_chetos = 7.0\n",
        "tienda_abierta = True\n",
        "capital_en_bolsa = 10.0\n",
        "\n",
        "se_compra = ( costo_chetos < capital_en_bolsa ) and (tienda_abierta == True)\n",
        "print(se_compra)"
      ],
      "execution_count": 21,
      "outputs": [
        {
          "output_type": "stream",
          "text": [
            "True\n"
          ],
          "name": "stdout"
        }
      ]
    }
  ]
}